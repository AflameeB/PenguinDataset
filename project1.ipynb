{
 "cells": [
  {
   "cell_type": "markdown",
   "id": "308b3e3e",
   "metadata": {},
   "source": [
    "# Project 1 - Penguin Dataset\n",
    "\n",
    "### About the dataset:\n",
    "Please refer to the official [Github](https://github.com/allisonhorst/palmerpenguins/blob/master/README.md) page for details and license information. The details below have also been\n",
    "taken from there.  \n",
    "Artwork: [@allison_horst](https://www.kaggle.com/allison)\n",
    "\n",
    "### Summary:\n",
    "\n",
    "The data folder contains a csv file: penguins_size.csv\n",
    "- penguins_size.csv: Simplified data from original penguin data sets.\n",
    "\n",
    "Contains variables:\n",
    " - species: penguin species (Chinstrap, Adélie, or Gentoo)\n",
    " - culmen_length_mm: culmen length (mm)\n",
    " - culmen_depth_mm: culmen depth (mm)\n",
    " - flipper_length_mm: flipper length (mm)\n",
    " - body_mass_g: body mass (g)\n",
    " - island: island name (Dream, Torgersen, or Biscoe) in the Palmer    Archipelago (Antarctica)\n",
    " - sex: penguin sex\n"
   ]
  },
  {
   "cell_type": "markdown",
   "id": "9cbdedf6",
   "metadata": {},
   "source": [
    "### TASK:\n",
    "\n",
    "To predict the class of Penguin Species"
   ]
  },
  {
   "cell_type": "code",
   "execution_count": 1,
   "id": "1b7127cc",
   "metadata": {},
   "outputs": [
    {
     "data": {
      "text/html": [
       "<div>\n",
       "<style scoped>\n",
       "    .dataframe tbody tr th:only-of-type {\n",
       "        vertical-align: middle;\n",
       "    }\n",
       "\n",
       "    .dataframe tbody tr th {\n",
       "        vertical-align: top;\n",
       "    }\n",
       "\n",
       "    .dataframe thead th {\n",
       "        text-align: right;\n",
       "    }\n",
       "</style>\n",
       "<table border=\"1\" class=\"dataframe\">\n",
       "  <thead>\n",
       "    <tr style=\"text-align: right;\">\n",
       "      <th></th>\n",
       "      <th>species</th>\n",
       "      <th>island</th>\n",
       "      <th>culmen_length_mm</th>\n",
       "      <th>culmen_depth_mm</th>\n",
       "      <th>flipper_length_mm</th>\n",
       "      <th>body_mass_g</th>\n",
       "      <th>sex</th>\n",
       "    </tr>\n",
       "  </thead>\n",
       "  <tbody>\n",
       "    <tr>\n",
       "      <th>0</th>\n",
       "      <td>Adelie</td>\n",
       "      <td>Torgersen</td>\n",
       "      <td>39.1</td>\n",
       "      <td>18.7</td>\n",
       "      <td>181.0</td>\n",
       "      <td>3750.0</td>\n",
       "      <td>MALE</td>\n",
       "    </tr>\n",
       "    <tr>\n",
       "      <th>1</th>\n",
       "      <td>Adelie</td>\n",
       "      <td>Torgersen</td>\n",
       "      <td>39.5</td>\n",
       "      <td>17.4</td>\n",
       "      <td>186.0</td>\n",
       "      <td>3800.0</td>\n",
       "      <td>FEMALE</td>\n",
       "    </tr>\n",
       "    <tr>\n",
       "      <th>2</th>\n",
       "      <td>Adelie</td>\n",
       "      <td>Torgersen</td>\n",
       "      <td>40.3</td>\n",
       "      <td>18.0</td>\n",
       "      <td>195.0</td>\n",
       "      <td>3250.0</td>\n",
       "      <td>FEMALE</td>\n",
       "    </tr>\n",
       "    <tr>\n",
       "      <th>3</th>\n",
       "      <td>Adelie</td>\n",
       "      <td>Torgersen</td>\n",
       "      <td>NaN</td>\n",
       "      <td>NaN</td>\n",
       "      <td>NaN</td>\n",
       "      <td>NaN</td>\n",
       "      <td>NaN</td>\n",
       "    </tr>\n",
       "    <tr>\n",
       "      <th>4</th>\n",
       "      <td>Adelie</td>\n",
       "      <td>Torgersen</td>\n",
       "      <td>36.7</td>\n",
       "      <td>19.3</td>\n",
       "      <td>193.0</td>\n",
       "      <td>3450.0</td>\n",
       "      <td>FEMALE</td>\n",
       "    </tr>\n",
       "  </tbody>\n",
       "</table>\n",
       "</div>"
      ],
      "text/plain": [
       "  species     island  culmen_length_mm  culmen_depth_mm  flipper_length_mm  \\\n",
       "0  Adelie  Torgersen              39.1             18.7              181.0   \n",
       "1  Adelie  Torgersen              39.5             17.4              186.0   \n",
       "2  Adelie  Torgersen              40.3             18.0              195.0   \n",
       "3  Adelie  Torgersen               NaN              NaN                NaN   \n",
       "4  Adelie  Torgersen              36.7             19.3              193.0   \n",
       "\n",
       "   body_mass_g     sex  \n",
       "0       3750.0    MALE  \n",
       "1       3800.0  FEMALE  \n",
       "2       3250.0  FEMALE  \n",
       "3          NaN     NaN  \n",
       "4       3450.0  FEMALE  "
      ]
     },
     "execution_count": 1,
     "metadata": {},
     "output_type": "execute_result"
    }
   ],
   "source": [
    "import joblib\n",
    "import matplotlib.pyplot as plt\n",
    "import numpy as np\n",
    "import pandas as pd\n",
    "import seaborn as sns\n",
    "from time import time\n",
    "from sklearn.model_selection import train_test_split\n",
    "from sklearn.model_selection import learning_curve\n",
    "from sklearn.datasets import load_digits\n",
    "from sklearn.model_selection import ShuffleSplit\n",
    "from sklearn.ensemble import RandomForestClassifier\n",
    "from sklearn.linear_model import LogisticRegression\n",
    "from sklearn.svm import SVC\n",
    "from sklearn.model_selection import cross_val_score\n",
    "from sklearn.model_selection import GridSearchCV\n",
    "from sklearn.metrics import accuracy_score, precision_score, recall_score\n",
    "\n",
    "import warnings\n",
    "warnings.filterwarnings(\"ignore\", category=FutureWarning)\n",
    "warnings.filterwarnings('ignore', category=DeprecationWarning)\n",
    "##warnings.filterwarnings('ignore', category=UndefinedMetricWarning)\n",
    "##warnings.filterwarnings('ignore', category=ConvergenceWarning)\n",
    "\n",
    "%matplotlib inline\n",
    "\n",
    "penguins = pd.read_csv('penguins_size.csv')\n",
    "penguins.head()"
   ]
  },
  {
   "cell_type": "code",
   "execution_count": 2,
   "id": "00cc1240",
   "metadata": {},
   "outputs": [
    {
     "name": "stdout",
     "output_type": "stream",
     "text": [
      "<class 'pandas.core.frame.DataFrame'>\n",
      "RangeIndex: 344 entries, 0 to 343\n",
      "Data columns (total 7 columns):\n",
      " #   Column             Non-Null Count  Dtype  \n",
      "---  ------             --------------  -----  \n",
      " 0   species            344 non-null    object \n",
      " 1   island             344 non-null    object \n",
      " 2   culmen_length_mm   342 non-null    float64\n",
      " 3   culmen_depth_mm    342 non-null    float64\n",
      " 4   flipper_length_mm  342 non-null    float64\n",
      " 5   body_mass_g        342 non-null    float64\n",
      " 6   sex                334 non-null    object \n",
      "dtypes: float64(4), object(3)\n",
      "memory usage: 18.9+ KB\n"
     ]
    }
   ],
   "source": [
    "penguins.info()"
   ]
  },
  {
   "cell_type": "markdown",
   "id": "c46cba38",
   "metadata": {},
   "source": [
    "## Task 1: To perform a detailed EDA \n",
    "1. Fill in the missing values\n",
    "2. Drop irrelevant/repetetive variables (sex)\n",
    "3. Convert **species** and **island** into numeric variables."
   ]
  },
  {
   "cell_type": "markdown",
   "id": "93fa26e5",
   "metadata": {},
   "source": [
    " Fill missing values for **culmen_length_mm, culmen_depth_mm, flipper_length_mm & body_mass_g**"
   ]
  },
  {
   "cell_type": "code",
   "execution_count": 3,
   "id": "112a0214",
   "metadata": {},
   "outputs": [
    {
     "data": {
      "text/plain": [
       "species               0\n",
       "island                0\n",
       "culmen_length_mm      2\n",
       "culmen_depth_mm       2\n",
       "flipper_length_mm     2\n",
       "body_mass_g           2\n",
       "sex                  10\n",
       "dtype: int64"
      ]
     },
     "execution_count": 3,
     "metadata": {},
     "output_type": "execute_result"
    }
   ],
   "source": [
    "penguins.isnull().sum()"
   ]
  },
  {
   "cell_type": "code",
   "execution_count": 4,
   "id": "e177914c",
   "metadata": {},
   "outputs": [],
   "source": [
    "# Fill in the missing values for the following 4 attributes :\n",
    "\n",
    "penguins['culmen_length_mm'].fillna(penguins['culmen_length_mm'].mean(), inplace=True)\n",
    "penguins['culmen_depth_mm'].fillna(penguins['culmen_depth_mm'].mean(), inplace=True)\n",
    "penguins['flipper_length_mm'].fillna(penguins['flipper_length_mm'].mean(), inplace=True)\n",
    "penguins['body_mass_g'].fillna(penguins['body_mass_g'].mean(), inplace=True)"
   ]
  },
  {
   "cell_type": "markdown",
   "id": "e74027bb",
   "metadata": {},
   "source": [
    "Drop unnnecessary variables"
   ]
  },
  {
   "cell_type": "code",
   "execution_count": 5,
   "id": "eaaa03ad",
   "metadata": {},
   "outputs": [],
   "source": [
    "penguins.drop(['sex'], axis=1, inplace=True)"
   ]
  },
  {
   "cell_type": "markdown",
   "id": "5a988228",
   "metadata": {},
   "source": [
    " Convert **species** and **island** to numeric variables"
   ]
  },
  {
   "cell_type": "code",
   "execution_count": 6,
   "id": "a44cba24",
   "metadata": {},
   "outputs": [],
   "source": [
    "species_num = {'Chinstrap' : 0, 'Adelie' : 1, 'Gentoo' : 2}\n",
    "penguins['species'] = penguins['species'].map(species_num)\n",
    "\n",
    "island_num = {'Dream' : 0, 'Torgersen' : 1, 'Biscoe' : 2}\n",
    "penguins['island'] = penguins['island'].map(island_num)"
   ]
  },
  {
   "cell_type": "code",
   "execution_count": 7,
   "id": "7ffec312",
   "metadata": {},
   "outputs": [
    {
     "data": {
      "text/html": [
       "<div>\n",
       "<style scoped>\n",
       "    .dataframe tbody tr th:only-of-type {\n",
       "        vertical-align: middle;\n",
       "    }\n",
       "\n",
       "    .dataframe tbody tr th {\n",
       "        vertical-align: top;\n",
       "    }\n",
       "\n",
       "    .dataframe thead th {\n",
       "        text-align: right;\n",
       "    }\n",
       "</style>\n",
       "<table border=\"1\" class=\"dataframe\">\n",
       "  <thead>\n",
       "    <tr style=\"text-align: right;\">\n",
       "      <th></th>\n",
       "      <th>species</th>\n",
       "      <th>island</th>\n",
       "      <th>culmen_length_mm</th>\n",
       "      <th>culmen_depth_mm</th>\n",
       "      <th>flipper_length_mm</th>\n",
       "      <th>body_mass_g</th>\n",
       "    </tr>\n",
       "  </thead>\n",
       "  <tbody>\n",
       "    <tr>\n",
       "      <th>0</th>\n",
       "      <td>1</td>\n",
       "      <td>1</td>\n",
       "      <td>39.10000</td>\n",
       "      <td>18.70000</td>\n",
       "      <td>181.000000</td>\n",
       "      <td>3750.000000</td>\n",
       "    </tr>\n",
       "    <tr>\n",
       "      <th>1</th>\n",
       "      <td>1</td>\n",
       "      <td>1</td>\n",
       "      <td>39.50000</td>\n",
       "      <td>17.40000</td>\n",
       "      <td>186.000000</td>\n",
       "      <td>3800.000000</td>\n",
       "    </tr>\n",
       "    <tr>\n",
       "      <th>2</th>\n",
       "      <td>1</td>\n",
       "      <td>1</td>\n",
       "      <td>40.30000</td>\n",
       "      <td>18.00000</td>\n",
       "      <td>195.000000</td>\n",
       "      <td>3250.000000</td>\n",
       "    </tr>\n",
       "    <tr>\n",
       "      <th>3</th>\n",
       "      <td>1</td>\n",
       "      <td>1</td>\n",
       "      <td>43.92193</td>\n",
       "      <td>17.15117</td>\n",
       "      <td>200.915205</td>\n",
       "      <td>4201.754386</td>\n",
       "    </tr>\n",
       "    <tr>\n",
       "      <th>4</th>\n",
       "      <td>1</td>\n",
       "      <td>1</td>\n",
       "      <td>36.70000</td>\n",
       "      <td>19.30000</td>\n",
       "      <td>193.000000</td>\n",
       "      <td>3450.000000</td>\n",
       "    </tr>\n",
       "  </tbody>\n",
       "</table>\n",
       "</div>"
      ],
      "text/plain": [
       "   species  island  culmen_length_mm  culmen_depth_mm  flipper_length_mm  \\\n",
       "0        1       1          39.10000         18.70000         181.000000   \n",
       "1        1       1          39.50000         17.40000         186.000000   \n",
       "2        1       1          40.30000         18.00000         195.000000   \n",
       "3        1       1          43.92193         17.15117         200.915205   \n",
       "4        1       1          36.70000         19.30000         193.000000   \n",
       "\n",
       "   body_mass_g  \n",
       "0  3750.000000  \n",
       "1  3800.000000  \n",
       "2  3250.000000  \n",
       "3  4201.754386  \n",
       "4  3450.000000  "
      ]
     },
     "execution_count": 7,
     "metadata": {},
     "output_type": "execute_result"
    }
   ],
   "source": [
    "penguins.head()"
   ]
  },
  {
   "cell_type": "code",
   "execution_count": 8,
   "id": "cfb950ce",
   "metadata": {},
   "outputs": [
    {
     "data": {
      "text/plain": [
       "<Figure size 432x288 with 0 Axes>"
      ]
     },
     "metadata": {},
     "output_type": "display_data"
    },
    {
     "data": {
      "image/png": "[encoded data removed]",
      "text/plain": [
       "<Figure size 720x360 with 1 Axes>"
      ]
     },
     "metadata": {
      "needs_background": "light"
     },
     "output_type": "display_data"
    },
    {
     "data": {
      "image/png": "[encoded data removed]",
      "text/plain": [
       "<Figure size 720x360 with 1 Axes>"
      ]
     },
     "metadata": {
      "needs_background": "light"
     },
     "output_type": "display_data"
    },
    {
     "data": {
      "image/png": "[encoded data removed]",
      "text/plain": [
       "<Figure size 720x360 with 1 Axes>"
      ]
     },
     "metadata": {
      "needs_background": "light"
     },
     "output_type": "display_data"
    },
    {
     "data": {
      "image/png": "[encoded data removed]",
      "text/plain": [
       "<Figure size 720x360 with 1 Axes>"
      ]
     },
     "metadata": {
      "needs_background": "light"
     },
     "output_type": "display_data"
    },
    {
     "data": {
      "image/png": "[encoded data removed]",
      "text/plain": [
       "<Figure size 720x360 with 1 Axes>"
      ]
     },
     "metadata": {
      "needs_background": "light"
     },
     "output_type": "display_data"
    }
   ],
   "source": [
    "## Plotting the features\n",
    "\n",
    "for i, col in enumerate(['island', 'culmen_length_mm', 'culmen_depth_mm', 'flipper_length_mm', 'body_mass_g']):\n",
    "    plt.figure(i)\n",
    "    sns.catplot(x='species', y=col, data=penguins, kind='point', aspect=2,)\n",
    "\n",
    "    \n"
   ]
  },
  {
   "cell_type": "markdown",
   "id": "d5a441ba",
   "metadata": {},
   "source": [
    "## Task 2: Split the data into two different ratios (training - validation - test) :-\n",
    "\n",
    "### 1. 60-20-20 (Ratio 1)\n"
   ]
  },
  {
   "cell_type": "code",
   "execution_count": 9,
   "id": "978fbc46",
   "metadata": {},
   "outputs": [
    {
     "data": {
      "text/html": [
       "<div>\n",
       "<style scoped>\n",
       "    .dataframe tbody tr th:only-of-type {\n",
       "        vertical-align: middle;\n",
       "    }\n",
       "\n",
       "    .dataframe tbody tr th {\n",
       "        vertical-align: top;\n",
       "    }\n",
       "\n",
       "    .dataframe thead th {\n",
       "        text-align: right;\n",
       "    }\n",
       "</style>\n",
       "<table border=\"1\" class=\"dataframe\">\n",
       "  <thead>\n",
       "    <tr style=\"text-align: right;\">\n",
       "      <th></th>\n",
       "      <th>species</th>\n",
       "      <th>island</th>\n",
       "      <th>culmen_length_mm</th>\n",
       "      <th>culmen_depth_mm</th>\n",
       "      <th>flipper_length_mm</th>\n",
       "      <th>body_mass_g</th>\n",
       "    </tr>\n",
       "  </thead>\n",
       "  <tbody>\n",
       "    <tr>\n",
       "      <th>0</th>\n",
       "      <td>1</td>\n",
       "      <td>1</td>\n",
       "      <td>39.10000</td>\n",
       "      <td>18.70000</td>\n",
       "      <td>181.000000</td>\n",
       "      <td>3750.000000</td>\n",
       "    </tr>\n",
       "    <tr>\n",
       "      <th>1</th>\n",
       "      <td>1</td>\n",
       "      <td>1</td>\n",
       "      <td>39.50000</td>\n",
       "      <td>17.40000</td>\n",
       "      <td>186.000000</td>\n",
       "      <td>3800.000000</td>\n",
       "    </tr>\n",
       "    <tr>\n",
       "      <th>2</th>\n",
       "      <td>1</td>\n",
       "      <td>1</td>\n",
       "      <td>40.30000</td>\n",
       "      <td>18.00000</td>\n",
       "      <td>195.000000</td>\n",
       "      <td>3250.000000</td>\n",
       "    </tr>\n",
       "    <tr>\n",
       "      <th>3</th>\n",
       "      <td>1</td>\n",
       "      <td>1</td>\n",
       "      <td>43.92193</td>\n",
       "      <td>17.15117</td>\n",
       "      <td>200.915205</td>\n",
       "      <td>4201.754386</td>\n",
       "    </tr>\n",
       "    <tr>\n",
       "      <th>4</th>\n",
       "      <td>1</td>\n",
       "      <td>1</td>\n",
       "      <td>36.70000</td>\n",
       "      <td>19.30000</td>\n",
       "      <td>193.000000</td>\n",
       "      <td>3450.000000</td>\n",
       "    </tr>\n",
       "    <tr>\n",
       "      <th>5</th>\n",
       "      <td>1</td>\n",
       "      <td>1</td>\n",
       "      <td>39.30000</td>\n",
       "      <td>20.60000</td>\n",
       "      <td>190.000000</td>\n",
       "      <td>3650.000000</td>\n",
       "    </tr>\n",
       "    <tr>\n",
       "      <th>6</th>\n",
       "      <td>1</td>\n",
       "      <td>1</td>\n",
       "      <td>38.90000</td>\n",
       "      <td>17.80000</td>\n",
       "      <td>181.000000</td>\n",
       "      <td>3625.000000</td>\n",
       "    </tr>\n",
       "    <tr>\n",
       "      <th>7</th>\n",
       "      <td>1</td>\n",
       "      <td>1</td>\n",
       "      <td>39.20000</td>\n",
       "      <td>19.60000</td>\n",
       "      <td>195.000000</td>\n",
       "      <td>4675.000000</td>\n",
       "    </tr>\n",
       "    <tr>\n",
       "      <th>8</th>\n",
       "      <td>1</td>\n",
       "      <td>1</td>\n",
       "      <td>34.10000</td>\n",
       "      <td>18.10000</td>\n",
       "      <td>193.000000</td>\n",
       "      <td>3475.000000</td>\n",
       "    </tr>\n",
       "    <tr>\n",
       "      <th>9</th>\n",
       "      <td>1</td>\n",
       "      <td>1</td>\n",
       "      <td>42.00000</td>\n",
       "      <td>20.20000</td>\n",
       "      <td>190.000000</td>\n",
       "      <td>4250.000000</td>\n",
       "    </tr>\n",
       "  </tbody>\n",
       "</table>\n",
       "</div>"
      ],
      "text/plain": [
       "   species  island  culmen_length_mm  culmen_depth_mm  flipper_length_mm  \\\n",
       "0        1       1          39.10000         18.70000         181.000000   \n",
       "1        1       1          39.50000         17.40000         186.000000   \n",
       "2        1       1          40.30000         18.00000         195.000000   \n",
       "3        1       1          43.92193         17.15117         200.915205   \n",
       "4        1       1          36.70000         19.30000         193.000000   \n",
       "5        1       1          39.30000         20.60000         190.000000   \n",
       "6        1       1          38.90000         17.80000         181.000000   \n",
       "7        1       1          39.20000         19.60000         195.000000   \n",
       "8        1       1          34.10000         18.10000         193.000000   \n",
       "9        1       1          42.00000         20.20000         190.000000   \n",
       "\n",
       "   body_mass_g  \n",
       "0  3750.000000  \n",
       "1  3800.000000  \n",
       "2  3250.000000  \n",
       "3  4201.754386  \n",
       "4  3450.000000  \n",
       "5  3650.000000  \n",
       "6  3625.000000  \n",
       "7  4675.000000  \n",
       "8  3475.000000  \n",
       "9  4250.000000  "
      ]
     },
     "execution_count": 9,
     "metadata": {},
     "output_type": "execute_result"
    }
   ],
   "source": [
    "penguins.head(10)"
   ]
  },
  {
   "cell_type": "code",
   "execution_count": 10,
   "id": "e93f3e93",
   "metadata": {},
   "outputs": [],
   "source": [
    "features = penguins.drop('species', axis=1)\n",
    "labels = penguins['species']\n",
    "\n",
    "X_train, X_test, y_train, y_test = train_test_split(features, labels, test_size=0.4, random_state=42)\n",
    "X_test, X_val, y_test, y_val = train_test_split(X_test, y_test, test_size=0.5, random_state=42)"
   ]
  },
  {
   "cell_type": "code",
   "execution_count": 11,
   "id": "1c5f8a18",
   "metadata": {},
   "outputs": [
    {
     "name": "stdout",
     "output_type": "stream",
     "text": [
      "0.6\n",
      "0.2\n",
      "0.2\n"
     ]
    }
   ],
   "source": [
    "for dataset in [y_train, y_val, y_test]:\n",
    "    print(round(len(dataset) / len(labels), 2))"
   ]
  },
  {
   "cell_type": "markdown",
   "id": "71f077c3",
   "metadata": {},
   "source": [
    "Write out data"
   ]
  },
  {
   "cell_type": "code",
   "execution_count": 12,
   "id": "4b75376e",
   "metadata": {},
   "outputs": [],
   "source": [
    "X_train.to_csv('train_features1.csv', index=False)\n",
    "X_val.to_csv('val_features1.csv', index=False)\n",
    "X_test.to_csv('test_features1.csv', index=False)\n",
    "\n",
    "y_train.to_csv('train_labels1.csv', index=False)\n",
    "y_val.to_csv('val_labels1.csv', index=False)\n",
    "y_test.to_csv('test_labels1.csv', index=False)"
   ]
  },
  {
   "cell_type": "markdown",
   "id": "75995fb2",
   "metadata": {},
   "source": [
    "### 2. 80-10-10 (Ratio 2)"
   ]
  },
  {
   "cell_type": "code",
   "execution_count": 13,
   "id": "20ea1dc0",
   "metadata": {},
   "outputs": [],
   "source": [
    "features = penguins.drop('species', axis=1)\n",
    "labels = penguins['species']\n",
    "\n",
    "X_train, X_test, y_train, y_test = train_test_split(features, labels, test_size=0.2, random_state=42)\n",
    "X_test, X_val, y_test, y_val = train_test_split(X_test, y_test, test_size=0.5, random_state=42)"
   ]
  },
  {
   "cell_type": "code",
   "execution_count": 14,
   "id": "4f537a77",
   "metadata": {},
   "outputs": [
    {
     "name": "stdout",
     "output_type": "stream",
     "text": [
      "0.8\n",
      "0.1\n",
      "0.1\n"
     ]
    }
   ],
   "source": [
    "for dataset in [y_train, y_val, y_test]:\n",
    "    print(round(len(dataset) / len(labels), 2))"
   ]
  },
  {
   "cell_type": "code",
   "execution_count": 15,
   "id": "5d249bc2",
   "metadata": {},
   "outputs": [],
   "source": [
    "X_train.to_csv('train_features2.csv', index=False)\n",
    "X_val.to_csv('val_features2.csv', index=False)\n",
    "X_test.to_csv('test_features2.csv', index=False)\n",
    "\n",
    "y_train.to_csv('train_labels2.csv', index=False)\n",
    "y_val.to_csv('val_labels2.csv', index=False)\n",
    "y_test.to_csv('test_labels2.csv', index=False)"
   ]
  },
  {
   "cell_type": "markdown",
   "id": "5112db78",
   "metadata": {},
   "source": [
    "#### Function for plotting Learning Curves"
   ]
  },
  {
   "cell_type": "code",
   "execution_count": 16,
   "id": "2a9aa07b",
   "metadata": {},
   "outputs": [],
   "source": [
    "def plot_learning_curve(\n",
    "    estimator,\n",
    "    title,\n",
    "    X,\n",
    "    y,\n",
    "    axes=None,\n",
    "    ylim=None,\n",
    "    cv=None,\n",
    "    n_jobs=None,\n",
    "    train_sizes=np.linspace(0.1, 1.0, 5),\n",
    "):\n",
    "    \n",
    "    if axes is None:\n",
    "        _, axes = plt.subplots(1, 3, figsize=(20, 5))\n",
    "\n",
    "    axes[0].set_title(title)\n",
    "    if ylim is not None:\n",
    "        axes[0].set_ylim(*ylim)\n",
    "    axes[0].set_xlabel(\"Training examples\")\n",
    "    axes[0].set_ylabel(\"Score\")\n",
    "\n",
    "    train_sizes, train_scores, test_scores, fit_times, _ = learning_curve(\n",
    "        estimator,\n",
    "        X,\n",
    "        y,\n",
    "        cv=cv,\n",
    "        n_jobs=n_jobs,\n",
    "        train_sizes=train_sizes,\n",
    "        return_times=True,\n",
    "    )\n",
    "    train_scores_mean = np.mean(train_scores, axis=1)\n",
    "    train_scores_std = np.std(train_scores, axis=1)\n",
    "    test_scores_mean = np.mean(test_scores, axis=1)\n",
    "    test_scores_std = np.std(test_scores, axis=1)\n",
    "    fit_times_mean = np.mean(fit_times, axis=1)\n",
    "    fit_times_std = np.std(fit_times, axis=1)\n",
    "\n",
    "    # Plot learning curve\n",
    "    axes[0].grid()\n",
    "    axes[0].fill_between(\n",
    "        train_sizes,\n",
    "        train_scores_mean - train_scores_std,\n",
    "        train_scores_mean + train_scores_std,\n",
    "        alpha=0.1,\n",
    "        color=\"r\",\n",
    "    )\n",
    "    axes[0].fill_between(\n",
    "        train_sizes,\n",
    "        test_scores_mean - test_scores_std,\n",
    "        test_scores_mean + test_scores_std,\n",
    "        alpha=0.1,\n",
    "        color=\"g\",\n",
    "    )\n",
    "    axes[0].plot(\n",
    "        train_sizes, train_scores_mean, \"o-\", color=\"r\", label=\"Training score\"\n",
    "    )\n",
    "    axes[0].plot(\n",
    "        train_sizes, test_scores_mean, \"o-\", color=\"g\", label=\"Cross-validation score\"\n",
    "    )\n",
    "    axes[0].legend(loc=\"best\")\n",
    "\n",
    "    # Plot n_samples vs fit_times\n",
    "    axes[1].grid()\n",
    "    axes[1].plot(train_sizes, fit_times_mean, \"o-\")\n",
    "    axes[1].fill_between(\n",
    "        train_sizes,\n",
    "        fit_times_mean - fit_times_std,\n",
    "        fit_times_mean + fit_times_std,\n",
    "        alpha=0.1,\n",
    "    )\n",
    "    axes[1].set_xlabel(\"Training examples\")\n",
    "    axes[1].set_ylabel(\"fit_times\")\n",
    "    axes[1].set_title(\"Scalability of the model\")\n",
    "\n",
    "    # Plot fit_time vs score\n",
    "    fit_time_argsort = fit_times_mean.argsort()\n",
    "    fit_time_sorted = fit_times_mean[fit_time_argsort]\n",
    "    test_scores_mean_sorted = test_scores_mean[fit_time_argsort]\n",
    "    test_scores_std_sorted = test_scores_std[fit_time_argsort]\n",
    "    axes[2].grid()\n",
    "    axes[2].plot(fit_time_sorted, test_scores_mean_sorted, \"o-\")\n",
    "    axes[2].fill_between(\n",
    "        fit_time_sorted,\n",
    "        test_scores_mean_sorted - test_scores_std_sorted,\n",
    "        test_scores_mean_sorted + test_scores_std_sorted,\n",
    "        alpha=0.1,\n",
    "    )\n",
    "    axes[2].set_xlabel(\"fit_times\")\n",
    "    axes[2].set_ylabel(\"Score\")\n",
    "    axes[2].set_title(\"Performance of the model\")\n",
    "\n",
    "    return plt"
   ]
  },
  {
   "cell_type": "markdown",
   "id": "c3a85372",
   "metadata": {},
   "source": [
    "## Task 3: Experiment with two different ratios using the following algorithms :-\n",
    "\n",
    "### 1. Random Forest Classifier\n"
   ]
  },
  {
   "cell_type": "markdown",
   "id": "64eab200",
   "metadata": {},
   "source": [
    "#### For Ratio 1"
   ]
  },
  {
   "cell_type": "code",
   "execution_count": 17,
   "id": "9eb2190b",
   "metadata": {},
   "outputs": [],
   "source": [
    "rf_features1 = pd.read_csv('train_features1.csv')\n",
    "rf_labels1 = pd.read_csv('train_labels1.csv')"
   ]
  },
  {
   "cell_type": "markdown",
   "id": "70fa6746",
   "metadata": {},
   "source": [
    "**_Hyperparameter Tuning_**"
   ]
  },
  {
   "cell_type": "code",
   "execution_count": 18,
   "id": "8d081881",
   "metadata": {},
   "outputs": [],
   "source": [
    "def print_results(results):\n",
    "    print('BEST PARAMS: {}\\n'.format(results.best_params_))\n",
    "\n",
    "    means = results.cv_results_['mean_test_score']\n",
    "    stds = results.cv_results_['std_test_score']\n",
    "    for mean, std, params in zip(means, stds, results.cv_results_['params']):\n",
    "        print('{} (+/-{}) for {}'.format(round(mean, 3), round(std * 2, 3), params))"
   ]
  },
  {
   "cell_type": "code",
   "execution_count": 19,
   "id": "068ae61a",
   "metadata": {},
   "outputs": [
    {
     "name": "stdout",
     "output_type": "stream",
     "text": [
      "BEST PARAMS: {'max_depth': 4, 'n_estimators': 50}\n",
      "\n",
      "0.932 (+/-0.057) for {'max_depth': 2, 'n_estimators': 5}\n",
      "0.966 (+/-0.023) for {'max_depth': 2, 'n_estimators': 50}\n",
      "0.966 (+/-0.023) for {'max_depth': 2, 'n_estimators': 250}\n",
      "0.956 (+/-0.057) for {'max_depth': 4, 'n_estimators': 5}\n",
      "0.99 (+/-0.024) for {'max_depth': 4, 'n_estimators': 50}\n",
      "0.976 (+/-0.03) for {'max_depth': 4, 'n_estimators': 250}\n",
      "0.966 (+/-0.049) for {'max_depth': 8, 'n_estimators': 5}\n",
      "0.986 (+/-0.038) for {'max_depth': 8, 'n_estimators': 50}\n",
      "0.981 (+/-0.036) for {'max_depth': 8, 'n_estimators': 250}\n",
      "0.966 (+/-0.039) for {'max_depth': 16, 'n_estimators': 5}\n",
      "0.981 (+/-0.036) for {'max_depth': 16, 'n_estimators': 50}\n",
      "0.986 (+/-0.038) for {'max_depth': 16, 'n_estimators': 250}\n",
      "0.971 (+/-0.036) for {'max_depth': None, 'n_estimators': 5}\n",
      "0.981 (+/-0.036) for {'max_depth': None, 'n_estimators': 50}\n",
      "0.976 (+/-0.03) for {'max_depth': None, 'n_estimators': 250}\n"
     ]
    }
   ],
   "source": [
    "rf1 = RandomForestClassifier()\n",
    "parameters = {\n",
    "    'n_estimators': [5, 50, 250],\n",
    "    'max_depth': [2, 4, 8, 16, None]\n",
    "}\n",
    "\n",
    "cv = GridSearchCV(rf1, parameters, cv=5)\n",
    "cv.fit(rf_features1, rf_labels1.values.ravel())\n",
    "print_results(cv)"
   ]
  },
  {
   "cell_type": "code",
   "execution_count": 20,
   "id": "86db3d4e",
   "metadata": {},
   "outputs": [
    {
     "data": {
      "text/plain": [
       "RandomForestClassifier(max_depth=4, n_estimators=50)"
      ]
     },
     "execution_count": 20,
     "metadata": {},
     "output_type": "execute_result"
    }
   ],
   "source": [
    "cv.best_estimator_"
   ]
  },
  {
   "cell_type": "code",
   "execution_count": 21,
   "id": "89b03f81",
   "metadata": {},
   "outputs": [
    {
     "data": {
      "text/plain": [
       "['RF_model1.pkl']"
      ]
     },
     "execution_count": 21,
     "metadata": {},
     "output_type": "execute_result"
    }
   ],
   "source": [
    "# Write out the model\n",
    "joblib.dump(cv.best_estimator_, 'RF_model1.pkl')"
   ]
  },
  {
   "cell_type": "markdown",
   "id": "477c9446",
   "metadata": {},
   "source": [
    "**_Reading out the data for split ratio 1_**"
   ]
  },
  {
   "cell_type": "code",
   "execution_count": 22,
   "id": "9e44b8ff",
   "metadata": {},
   "outputs": [],
   "source": [
    "tr_features1 = pd.read_csv('train_features1.csv')\n",
    "tr_labels1 = pd.read_csv('train_labels1.csv')\n",
    "\n",
    "val_features1 = pd.read_csv('val_features1.csv')\n",
    "val_labels1 = pd.read_csv('val_labels1.csv')\n",
    "\n",
    "te_features1 = pd.read_csv('test_features1.csv')\n",
    "te_labels1 = pd.read_csv('test_labels1.csv')"
   ]
  },
  {
   "cell_type": "markdown",
   "id": "420c0d3e",
   "metadata": {},
   "source": [
    "**_Fit the best models on the Training set_**"
   ]
  },
  {
   "cell_type": "code",
   "execution_count": 23,
   "id": "28acc9f6",
   "metadata": {},
   "outputs": [
    {
     "data": {
      "text/plain": [
       "RandomForestClassifier(n_estimators=250)"
      ]
     },
     "execution_count": 23,
     "metadata": {},
     "output_type": "execute_result"
    }
   ],
   "source": [
    "rfA = RandomForestClassifier(n_estimators=50, max_depth=16)\n",
    "rfA.fit(tr_features1, tr_labels1.values.ravel())\n",
    "\n",
    "rfB = RandomForestClassifier(n_estimators=50, max_depth=8)\n",
    "rfB.fit(tr_features1, tr_labels1.values.ravel())\n",
    "\n",
    "rfC = RandomForestClassifier(n_estimators=250, max_depth=None)\n",
    "rfC.fit(tr_features1, tr_labels1.values.ravel())"
   ]
  },
  {
   "cell_type": "markdown",
   "id": "f8063fbb",
   "metadata": {},
   "source": [
    "**_Evaluate the models on the Validation Set_**"
   ]
  },
  {
   "cell_type": "code",
   "execution_count": 24,
   "id": "abf6ad9a",
   "metadata": {},
   "outputs": [
    {
     "name": "stdout",
     "output_type": "stream",
     "text": [
      "MAX DEPTH: 16 / # OF EST: 50 -- A: 0.986 / P: 0.974 / R: 0.99\n",
      "MAX DEPTH: 8 / # OF EST: 50 -- A: 0.986 / P: 0.974 / R: 0.99\n",
      "MAX DEPTH: None / # OF EST: 250 -- A: 0.986 / P: 0.974 / R: 0.99\n"
     ]
    }
   ],
   "source": [
    "for mdl in [rfA, rfB, rfC]:\n",
    "    y_pred = mdl.predict(val_features1)\n",
    "    accuracy = round(accuracy_score(val_labels1, y_pred), 3)\n",
    "    precision = round(precision_score(val_labels1, y_pred, average=\"macro\"), 3)\n",
    "    recall = round(recall_score(val_labels1, y_pred, average=\"macro\"), 3)\n",
    "    print('MAX DEPTH: {} / # OF EST: {} -- A: {} / P: {} / R: {}'.format(mdl.max_depth,\n",
    "                                                                         mdl.n_estimators,\n",
    "                                                                         accuracy,\n",
    "                                                                         precision,\n",
    "                                                                         recall))"
   ]
  },
  {
   "cell_type": "markdown",
   "id": "13b1eb6a",
   "metadata": {},
   "source": [
    "**_Evaluating the best model on the Test set_**"
   ]
  },
  {
   "cell_type": "code",
   "execution_count": 25,
   "id": "7d4c908e",
   "metadata": {},
   "outputs": [
    {
     "name": "stdout",
     "output_type": "stream",
     "text": [
      "MAX DEPTH: 16 / # OF EST: 50 -- A: 0.957 / P: 0.942 / R: 0.966\n"
     ]
    }
   ],
   "source": [
    "y_pred = rfA.predict(te_features1)\n",
    "accuracy = round(accuracy_score(te_labels1, y_pred), 3)\n",
    "precision = round(precision_score(te_labels1, y_pred, average=\"macro\"), 3)\n",
    "recall = round(recall_score(te_labels1, y_pred, average=\"macro\"), 3)\n",
    "print('MAX DEPTH: {} / # OF EST: {} -- A: {} / P: {} / R: {}'.format(rfA.max_depth,\n",
    "                                                                     rfA.n_estimators,\n",
    "                                                                     accuracy,\n",
    "                                                                     precision,\n",
    "                                                                     recall))"
   ]
  },
  {
   "cell_type": "markdown",
   "id": "8dac259e",
   "metadata": {},
   "source": [
    "#### For ratio 2"
   ]
  },
  {
   "cell_type": "code",
   "execution_count": 26,
   "id": "b752c50d",
   "metadata": {},
   "outputs": [],
   "source": [
    "rf_features2 = pd.read_csv('train_features2.csv')\n",
    "rf_labels2 = pd.read_csv('train_labels2.csv')"
   ]
  },
  {
   "cell_type": "markdown",
   "id": "4caafc42",
   "metadata": {},
   "source": [
    "**_Hyperparameter Tuning_**"
   ]
  },
  {
   "cell_type": "code",
   "execution_count": 27,
   "id": "3a0ecaae",
   "metadata": {},
   "outputs": [],
   "source": [
    "def print_results(results):\n",
    "    print('BEST PARAMS: {}\\n'.format(results.best_params_))\n",
    "\n",
    "    means = results.cv_results_['mean_test_score']\n",
    "    stds = results.cv_results_['std_test_score']\n",
    "    for mean, std, params in zip(means, stds, results.cv_results_['params']):\n",
    "        print('{} (+/-{}) for {}'.format(round(mean, 3), round(std * 2, 3), params))"
   ]
  },
  {
   "cell_type": "code",
   "execution_count": 28,
   "id": "3f96d198",
   "metadata": {},
   "outputs": [
    {
     "name": "stdout",
     "output_type": "stream",
     "text": [
      "BEST PARAMS: {'max_depth': 8, 'n_estimators': 250}\n",
      "\n",
      "0.956 (+/-0.018) for {'max_depth': 2, 'n_estimators': 5}\n",
      "0.967 (+/-0.027) for {'max_depth': 2, 'n_estimators': 50}\n",
      "0.967 (+/-0.027) for {'max_depth': 2, 'n_estimators': 250}\n",
      "0.956 (+/-0.071) for {'max_depth': 4, 'n_estimators': 5}\n",
      "0.971 (+/-0.018) for {'max_depth': 4, 'n_estimators': 50}\n",
      "0.971 (+/-0.018) for {'max_depth': 4, 'n_estimators': 250}\n",
      "0.967 (+/-0.027) for {'max_depth': 8, 'n_estimators': 5}\n",
      "0.975 (+/-0.037) for {'max_depth': 8, 'n_estimators': 50}\n",
      "0.978 (+/-0.036) for {'max_depth': 8, 'n_estimators': 250}\n",
      "0.967 (+/-0.036) for {'max_depth': 16, 'n_estimators': 5}\n",
      "0.971 (+/-0.037) for {'max_depth': 16, 'n_estimators': 50}\n",
      "0.978 (+/-0.036) for {'max_depth': 16, 'n_estimators': 250}\n",
      "0.971 (+/-0.037) for {'max_depth': 32, 'n_estimators': 5}\n",
      "0.978 (+/-0.027) for {'max_depth': 32, 'n_estimators': 50}\n",
      "0.975 (+/-0.044) for {'max_depth': 32, 'n_estimators': 250}\n",
      "0.964 (+/-0.04) for {'max_depth': None, 'n_estimators': 5}\n",
      "0.975 (+/-0.037) for {'max_depth': None, 'n_estimators': 50}\n",
      "0.975 (+/-0.029) for {'max_depth': None, 'n_estimators': 250}\n"
     ]
    }
   ],
   "source": [
    "rf2 = RandomForestClassifier()\n",
    "parameters = {\n",
    "    'n_estimators': [5, 50, 250],\n",
    "    'max_depth': [2, 4, 8, 16, 32, None]\n",
    "}\n",
    "\n",
    "cv = GridSearchCV(rf2, parameters, cv=5)\n",
    "cv.fit(rf_features2, rf_labels2.values.ravel())\n",
    "\n",
    "print_results(cv)"
   ]
  },
  {
   "cell_type": "code",
   "execution_count": 29,
   "id": "f083b628",
   "metadata": {},
   "outputs": [
    {
     "data": {
      "text/plain": [
       "RandomForestClassifier(max_depth=8, n_estimators=250)"
      ]
     },
     "execution_count": 29,
     "metadata": {},
     "output_type": "execute_result"
    }
   ],
   "source": [
    "cv.best_estimator_"
   ]
  },
  {
   "cell_type": "code",
   "execution_count": 30,
   "id": "746816ca",
   "metadata": {},
   "outputs": [
    {
     "data": {
      "text/plain": [
       "['RF_model2.pkl']"
      ]
     },
     "execution_count": 30,
     "metadata": {},
     "output_type": "execute_result"
    }
   ],
   "source": [
    "# Write out the model\n",
    "joblib.dump(cv.best_estimator_, 'RF_model2.pkl')"
   ]
  },
  {
   "cell_type": "markdown",
   "id": "8b09a084",
   "metadata": {},
   "source": [
    "**_Read out data for split ratio 2_**"
   ]
  },
  {
   "cell_type": "code",
   "execution_count": 31,
   "id": "6a63d1a3",
   "metadata": {},
   "outputs": [],
   "source": [
    "tr_features2 = pd.read_csv('train_features2.csv')\n",
    "tr_labels2 = pd.read_csv('train_labels2.csv')\n",
    "\n",
    "val_features2 = pd.read_csv('val_features2.csv')\n",
    "val_labels2 = pd.read_csv('val_labels2.csv')\n",
    "\n",
    "te_features2 = pd.read_csv('test_features2.csv')\n",
    "te_labels2 = pd.read_csv('test_labels2.csv')"
   ]
  },
  {
   "cell_type": "markdown",
   "id": "ffdfdba5",
   "metadata": {},
   "source": [
    "**_Fit the best models on the Training set_**"
   ]
  },
  {
   "cell_type": "code",
   "execution_count": 32,
   "id": "ac2881cd",
   "metadata": {},
   "outputs": [
    {
     "data": {
      "text/plain": [
       "RandomForestClassifier(max_depth=16, n_estimators=250)"
      ]
     },
     "execution_count": 32,
     "metadata": {},
     "output_type": "execute_result"
    }
   ],
   "source": [
    "rfA = RandomForestClassifier(n_estimators=5, max_depth=None)\n",
    "rfA.fit(tr_features2, tr_labels2.values.ravel())\n",
    "\n",
    "rfB = RandomForestClassifier(n_estimators=50, max_depth=8)\n",
    "rfB.fit(tr_features2, tr_labels2.values.ravel())\n",
    "\n",
    "rfC = RandomForestClassifier(n_estimators=250, max_depth=16)\n",
    "rfC.fit(tr_features2, tr_labels2.values.ravel())"
   ]
  },
  {
   "cell_type": "markdown",
   "id": "fef3d659",
   "metadata": {},
   "source": [
    "**_Evaluate the results on the Validation Set_**"
   ]
  },
  {
   "cell_type": "code",
   "execution_count": 33,
   "id": "a2483a78",
   "metadata": {},
   "outputs": [
    {
     "name": "stdout",
     "output_type": "stream",
     "text": [
      "MAX DEPTH: None / # OF EST: 5 -- A: 1.0 / P: 1.0 / R: 1.0\n",
      "MAX DEPTH: 8 / # OF EST: 50 -- A: 1.0 / P: 1.0 / R: 1.0\n",
      "MAX DEPTH: 16 / # OF EST: 250 -- A: 0.971 / P: 0.972 / R: 0.982\n"
     ]
    }
   ],
   "source": [
    "for mdl in [rfA, rfB, rfC]:\n",
    "    y_pred = mdl.predict(val_features2)\n",
    "    accuracy = round(accuracy_score(val_labels2, y_pred), 3)\n",
    "    precision = round(precision_score(val_labels2, y_pred, average=\"macro\"), 3)\n",
    "    recall = round(recall_score(val_labels2, y_pred, average=\"macro\"), 3)\n",
    "    print('MAX DEPTH: {} / # OF EST: {} -- A: {} / P: {} / R: {}'.format(mdl.max_depth,\n",
    "                                                                         mdl.n_estimators,\n",
    "                                                                         accuracy,\n",
    "                                                                         precision,\n",
    "                                                                         recall))"
   ]
  },
  {
   "cell_type": "markdown",
   "id": "344ab4ce",
   "metadata": {},
   "source": [
    "**_Evaluating the best model on the Test set_**"
   ]
  },
  {
   "cell_type": "code",
   "execution_count": 34,
   "id": "e592a67b",
   "metadata": {},
   "outputs": [
    {
     "name": "stdout",
     "output_type": "stream",
     "text": [
      "MAX DEPTH: 16 / # OF EST: 250 -- A: 1.0 / P: 1.0 / R: 1.0\n"
     ]
    }
   ],
   "source": [
    "y_pred = rfC.predict(te_features2)\n",
    "accuracy = round(accuracy_score(te_labels2, y_pred), 3)\n",
    "precision = round(precision_score(te_labels2, y_pred, average=\"macro\"), 3)\n",
    "recall = round(recall_score(te_labels2, y_pred, average=\"macro\"), 3)\n",
    "print('MAX DEPTH: {} / # OF EST: {} -- A: {} / P: {} / R: {}'.format(rfC.max_depth,\n",
    "                                                                     rfC.n_estimators,\n",
    "                                                                     accuracy,\n",
    "                                                                     precision,\n",
    "                                                                     recall))"
   ]
  },
  {
   "cell_type": "markdown",
   "id": "d5316157",
   "metadata": {},
   "source": [
    "**_Sketching the learning curves for Random Forest_**"
   ]
  },
  {
   "cell_type": "code",
   "execution_count": 35,
   "id": "f6dcef18",
   "metadata": {},
   "outputs": [
    {
     "data": {
      "image/png": "[encoded data removed]",
      "text/plain": [
       "<Figure size 720x1080 with 6 Axes>"
      ]
     },
     "metadata": {
      "needs_background": "light"
     },
     "output_type": "display_data"
    }
   ],
   "source": [
    "fig, axes = plt.subplots(3, 2, figsize=(10, 15))\n",
    "\n",
    "X, y = load_digits(return_X_y=True)\n",
    "\n",
    "title = \"Learning Curves (Ratio 1: Random Forest)\"\n",
    "# Cross validation with 50 iterations to get smoother mean test and train\n",
    "# score curves, each time with 20% data randomly selected as a validation set.\n",
    "cv = ShuffleSplit(n_splits=50, test_size=0.2, random_state=0)\n",
    "\n",
    "estimator = RandomForestClassifier()\n",
    "plot_learning_curve(\n",
    "    estimator, title, tr_features1, tr_labels1.values.ravel(), axes=axes[:, 0], ylim=(0.7, 1.01), cv=cv, n_jobs=4\n",
    ")\n",
    "\n",
    "title = \"Learning Curves (Ratio 2: Random Forest)\"\n",
    "# Cross validation with 50 iterations to get smoother mean test and train\n",
    "# score curves, each time with 10% data randomly selected as a validation set.\n",
    "cv = ShuffleSplit(n_splits=50, test_size=0.1, random_state=0)\n",
    "\n",
    "estimator = RandomForestClassifier()\n",
    "plot_learning_curve(\n",
    "    estimator, title, tr_features2, tr_labels2.values.ravel(), axes=axes[:, 1], ylim=(0.7, 1.01), cv=cv, n_jobs=4\n",
    ")\n",
    "\n",
    "plt.show()"
   ]
  },
  {
   "cell_type": "markdown",
   "id": "bdbe3b03",
   "metadata": {},
   "source": [
    "### 2. Support Vector Machines (SVM)"
   ]
  },
  {
   "cell_type": "markdown",
   "id": "ab7e55bd",
   "metadata": {},
   "source": [
    "#### For Ratio 1"
   ]
  },
  {
   "cell_type": "code",
   "execution_count": 36,
   "id": "df53c8b9",
   "metadata": {},
   "outputs": [],
   "source": [
    "svm_features1 = pd.read_csv('train_features1.csv')\n",
    "svm_labels1 = pd.read_csv('train_labels1.csv')"
   ]
  },
  {
   "cell_type": "markdown",
   "id": "49d200b4",
   "metadata": {},
   "source": [
    "**_Hyperparameter Tuning_**"
   ]
  },
  {
   "cell_type": "code",
   "execution_count": 37,
   "id": "0c310139",
   "metadata": {},
   "outputs": [],
   "source": [
    "def print_results(results):\n",
    "    print('BEST PARAMS: {}\\n'.format(results.best_params_))\n",
    "\n",
    "    means = results.cv_results_['mean_test_score']\n",
    "    stds = results.cv_results_['std_test_score']\n",
    "    for mean, std, params in zip(means, stds, results.cv_results_['params']):\n",
    "        print('{} (+/-{}) for {}'.format(round(mean, 3), round(std * 2, 3), params))"
   ]
  },
  {
   "cell_type": "code",
   "execution_count": 38,
   "id": "a49fa705",
   "metadata": {},
   "outputs": [
    {
     "name": "stdout",
     "output_type": "stream",
     "text": [
      "BEST PARAMS: {'C': 10, 'kernel': 'linear'}\n",
      "\n",
      "0.986 (+/-0.038) for {'C': 0.1, 'kernel': 'linear'}\n",
      "0.748 (+/-0.021) for {'C': 0.1, 'kernel': 'rbf'}\n",
      "0.99 (+/-0.024) for {'C': 1, 'kernel': 'linear'}\n",
      "0.748 (+/-0.048) for {'C': 1, 'kernel': 'rbf'}\n",
      "0.995 (+/-0.02) for {'C': 10, 'kernel': 'linear'}\n",
      "0.743 (+/-0.049) for {'C': 10, 'kernel': 'rbf'}\n"
     ]
    }
   ],
   "source": [
    "svc = SVC()\n",
    "parameters = {\n",
    "    'kernel': ['linear', 'rbf'],\n",
    "    'C': [0.1, 1, 10]\n",
    "}\n",
    "\n",
    "cv = GridSearchCV(svc, parameters, cv=5)\n",
    "cv.fit(svm_features1, svm_labels1.values.ravel())\n",
    "\n",
    "print_results(cv)"
   ]
  },
  {
   "cell_type": "code",
   "execution_count": 39,
   "id": "92fa5102",
   "metadata": {},
   "outputs": [
    {
     "data": {
      "text/plain": [
       "SVC(C=10, kernel='linear')"
      ]
     },
     "execution_count": 39,
     "metadata": {},
     "output_type": "execute_result"
    }
   ],
   "source": [
    "cv.best_estimator_"
   ]
  },
  {
   "cell_type": "code",
   "execution_count": 40,
   "id": "87f17701",
   "metadata": {},
   "outputs": [
    {
     "data": {
      "text/plain": [
       "['SVM_model1.pkl']"
      ]
     },
     "execution_count": 40,
     "metadata": {},
     "output_type": "execute_result"
    }
   ],
   "source": [
    "joblib.dump(cv.best_estimator_, 'SVM_model1.pkl')"
   ]
  },
  {
   "cell_type": "markdown",
   "id": "65a307bf",
   "metadata": {},
   "source": [
    "**_Read out data for split ratio 1_**"
   ]
  },
  {
   "cell_type": "code",
   "execution_count": 41,
   "id": "74ec372c",
   "metadata": {},
   "outputs": [],
   "source": [
    "tr_features1 = pd.read_csv('train_features1.csv')\n",
    "tr_labels1 = pd.read_csv('train_labels1.csv')\n",
    "\n",
    "val_features1 = pd.read_csv('val_features1.csv')\n",
    "val_labels1 = pd.read_csv('val_labels1.csv')\n",
    "\n",
    "te_features1 = pd.read_csv('test_features1.csv')\n",
    "te_labels1 = pd.read_csv('test_labels1.csv')"
   ]
  },
  {
   "cell_type": "markdown",
   "id": "72c63b6a",
   "metadata": {},
   "source": [
    "**_Fit the best models on the Training set_**"
   ]
  },
  {
   "cell_type": "code",
   "execution_count": 42,
   "id": "46897fae",
   "metadata": {},
   "outputs": [
    {
     "data": {
      "text/plain": [
       "SVC(C=1)"
      ]
     },
     "execution_count": 42,
     "metadata": {},
     "output_type": "execute_result"
    }
   ],
   "source": [
    "svmA = SVC(kernel='linear', C=0.1)\n",
    "svmA.fit(tr_features1, tr_labels1.values.ravel())\n",
    "\n",
    "svmB = SVC(kernel='linear', C=10)\n",
    "svmB.fit(tr_features1, tr_labels1.values.ravel())\n",
    "\n",
    "svmC = SVC(kernel='rbf', C=1)\n",
    "svmC.fit(tr_features1, tr_labels1.values.ravel())"
   ]
  },
  {
   "cell_type": "markdown",
   "id": "6d0865bb",
   "metadata": {},
   "source": [
    "**_Evaluate the results on the Validation Set_**"
   ]
  },
  {
   "cell_type": "code",
   "execution_count": 43,
   "id": "acb23fd5",
   "metadata": {},
   "outputs": [
    {
     "name": "stdout",
     "output_type": "stream",
     "text": [
      "Kernel: linear / C: 0.1 -- A: 0.986 / P: 0.99 / R: 0.972\n",
      "Kernel: linear / C: 10 -- A: 1.0 / P: 1.0 / R: 1.0\n",
      "Kernel: rbf / C: 1 -- A: 0.754 / P: 0.509 / R: 0.612\n"
     ]
    },
    {
     "name": "stderr",
     "output_type": "stream",
     "text": [
      "C:\\Users\\anmol\\anaconda3\\lib\\site-packages\\sklearn\\metrics\\_classification.py:1248: UndefinedMetricWarning: Precision is ill-defined and being set to 0.0 in labels with no predicted samples. Use `zero_division` parameter to control this behavior.\n",
      "  _warn_prf(average, modifier, msg_start, len(result))\n"
     ]
    }
   ],
   "source": [
    "for mdl in [svmA, svmB, svmC]:\n",
    "    y_pred = mdl.predict(val_features1)\n",
    "    accuracy = round(accuracy_score(val_labels1, y_pred), 3)\n",
    "    precision = round(precision_score(val_labels1, y_pred, average=\"macro\"), 3)\n",
    "    recall = round(recall_score(val_labels1, y_pred, average=\"macro\"), 3)\n",
    "    print('Kernel: {} / C: {} -- A: {} / P: {} / R: {}'.format(mdl.kernel,\n",
    "                                                                         mdl.C,\n",
    "                                                                         accuracy,\n",
    "                                                                         precision,\n",
    "                                                                         recall))"
   ]
  },
  {
   "cell_type": "markdown",
   "id": "d65fe6a3",
   "metadata": {},
   "source": [
    "**_Evaluating the best model on the Test set_**"
   ]
  },
  {
   "cell_type": "code",
   "execution_count": 44,
   "id": "474f2caa",
   "metadata": {},
   "outputs": [
    {
     "name": "stdout",
     "output_type": "stream",
     "text": [
      "Kernel: linear / C: 10 -- A: 0.986 / P: 0.99 / R: 0.987\n"
     ]
    }
   ],
   "source": [
    "y_pred = svmB.predict(te_features1)\n",
    "accuracy = round(accuracy_score(te_labels1, y_pred), 3)\n",
    "precision = round(precision_score(te_labels1, y_pred, average=\"macro\"), 3)\n",
    "recall = round(recall_score(te_labels1, y_pred, average=\"macro\"), 3)\n",
    "print('Kernel: {} / C: {} -- A: {} / P: {} / R: {}'.format(svmB.kernel,\n",
    "                                                                     svmB.C,\n",
    "                                                                     accuracy,\n",
    "                                                                     precision,\n",
    "                                                                     recall))"
   ]
  },
  {
   "cell_type": "markdown",
   "id": "d57b4483",
   "metadata": {},
   "source": [
    "#### For Ratio 2"
   ]
  },
  {
   "cell_type": "code",
   "execution_count": 45,
   "id": "daae7dcc",
   "metadata": {},
   "outputs": [],
   "source": [
    "svm_features2 = pd.read_csv('train_features2.csv')\n",
    "svm_labels2 = pd.read_csv('train_labels2.csv')"
   ]
  },
  {
   "cell_type": "markdown",
   "id": "834f5776",
   "metadata": {},
   "source": [
    "**_Hyperparameter Tuning_**"
   ]
  },
  {
   "cell_type": "code",
   "execution_count": 46,
   "id": "9dc966b6",
   "metadata": {},
   "outputs": [],
   "source": [
    "def print_results(results):\n",
    "    print('BEST PARAMS: {}\\n'.format(results.best_params_))\n",
    "\n",
    "    means = results.cv_results_['mean_test_score']\n",
    "    stds = results.cv_results_['std_test_score']\n",
    "    for mean, std, params in zip(means, stds, results.cv_results_['params']):\n",
    "        print('{} (+/-{}) for {}'.format(round(mean, 3), round(std * 2, 3), params))"
   ]
  },
  {
   "cell_type": "code",
   "execution_count": 47,
   "id": "2ec0db13",
   "metadata": {},
   "outputs": [
    {
     "name": "stdout",
     "output_type": "stream",
     "text": [
      "BEST PARAMS: {'C': 10, 'kernel': 'linear'}\n",
      "\n",
      "0.985 (+/-0.027) for {'C': 0.1, 'kernel': 'linear'}\n",
      "0.745 (+/-0.065) for {'C': 0.1, 'kernel': 'rbf'}\n",
      "0.982 (+/-0.023) for {'C': 1, 'kernel': 'linear'}\n",
      "0.742 (+/-0.084) for {'C': 1, 'kernel': 'rbf'}\n",
      "0.985 (+/-0.027) for {'C': 10, 'kernel': 'linear'}\n",
      "0.745 (+/-0.076) for {'C': 10, 'kernel': 'rbf'}\n"
     ]
    }
   ],
   "source": [
    "svc2 = SVC()\n",
    "parameters = {\n",
    "    'kernel': ['linear', 'rbf'],\n",
    "    'C': [0.1, 1, 10]\n",
    "}\n",
    "\n",
    "cv = GridSearchCV(svc2, parameters, cv=5)\n",
    "cv.fit(svm_features2, svm_labels2.values.ravel())\n",
    "\n",
    "print_results(cv)"
   ]
  },
  {
   "cell_type": "code",
   "execution_count": 48,
   "id": "ce75cb48",
   "metadata": {},
   "outputs": [
    {
     "data": {
      "text/plain": [
       "SVC(C=10, kernel='linear')"
      ]
     },
     "execution_count": 48,
     "metadata": {},
     "output_type": "execute_result"
    }
   ],
   "source": [
    "cv.best_estimator_"
   ]
  },
  {
   "cell_type": "code",
   "execution_count": 49,
   "id": "2b8735c1",
   "metadata": {},
   "outputs": [
    {
     "data": {
      "text/plain": [
       "['SVM_model2.pkl']"
      ]
     },
     "execution_count": 49,
     "metadata": {},
     "output_type": "execute_result"
    }
   ],
   "source": [
    "joblib.dump(cv.best_estimator_, 'SVM_model2.pkl')"
   ]
  },
  {
   "cell_type": "markdown",
   "id": "d22dc6c8",
   "metadata": {},
   "source": [
    "**_Read out data for split ratio 2_**"
   ]
  },
  {
   "cell_type": "code",
   "execution_count": 50,
   "id": "faaeb585",
   "metadata": {},
   "outputs": [],
   "source": [
    "tr_features2 = pd.read_csv('train_features2.csv')\n",
    "tr_labels2 = pd.read_csv('train_labels2.csv')\n",
    "\n",
    "val_features2 = pd.read_csv('val_features2.csv')\n",
    "val_labels2 = pd.read_csv('val_labels2.csv')\n",
    "\n",
    "te_features2 = pd.read_csv('test_features2.csv')\n",
    "te_labels2 = pd.read_csv('test_labels2.csv')"
   ]
  },
  {
   "cell_type": "markdown",
   "id": "e56e6201",
   "metadata": {},
   "source": [
    "**_Fit the best models on the Training set_**"
   ]
  },
  {
   "cell_type": "code",
   "execution_count": 51,
   "id": "1ea4790d",
   "metadata": {},
   "outputs": [
    {
     "data": {
      "text/plain": [
       "SVC(C=10, kernel='linear')"
      ]
     },
     "execution_count": 51,
     "metadata": {},
     "output_type": "execute_result"
    }
   ],
   "source": [
    "svmA = SVC(kernel='linear', C=0.1)\n",
    "svmA.fit(tr_features2, tr_labels2.values.ravel())\n",
    "\n",
    "svmB = SVC(kernel='linear', C=1)\n",
    "svmB.fit(tr_features2, tr_labels2.values.ravel())\n",
    "\n",
    "svmC = SVC(kernel='linear', C=10)\n",
    "svmC.fit(tr_features2, tr_labels2.values.ravel())"
   ]
  },
  {
   "cell_type": "markdown",
   "id": "2a5eb04d",
   "metadata": {},
   "source": [
    "**_Evaluate the results on the Validation Set_**"
   ]
  },
  {
   "cell_type": "code",
   "execution_count": 52,
   "id": "9034567a",
   "metadata": {},
   "outputs": [
    {
     "name": "stdout",
     "output_type": "stream",
     "text": [
      "Kernel: linear / C: 0.1 -- A: 1.0 / P: 1.0 / R: 1.0\n",
      "Kernel: linear / C: 1 -- A: 1.0 / P: 1.0 / R: 1.0\n",
      "Kernel: linear / C: 10 -- A: 0.971 / P: 0.972 / R: 0.982\n"
     ]
    }
   ],
   "source": [
    "for mdl in [svmA, svmB, svmC]:\n",
    "    y_pred = mdl.predict(val_features2)\n",
    "    accuracy = round(accuracy_score(val_labels2, y_pred), 3)\n",
    "    precision = round(precision_score(val_labels2, y_pred, average=\"macro\"), 3)\n",
    "    recall = round(recall_score(val_labels2, y_pred, average=\"macro\"), 3)\n",
    "    print('Kernel: {} / C: {} -- A: {} / P: {} / R: {}'.format(mdl.kernel,\n",
    "                                                                         mdl.C,\n",
    "                                                                         accuracy,\n",
    "                                                                         precision,\n",
    "                                                                         recall))"
   ]
  },
  {
   "cell_type": "markdown",
   "id": "087887ac",
   "metadata": {},
   "source": [
    "**_Evaluating the best model on the Test set_**"
   ]
  },
  {
   "cell_type": "code",
   "execution_count": 53,
   "id": "444af5b9",
   "metadata": {},
   "outputs": [
    {
     "name": "stdout",
     "output_type": "stream",
     "text": [
      "Kernel: linear / C: 10 -- A: 1.0 / P: 1.0 / R: 1.0\n"
     ]
    }
   ],
   "source": [
    "y_pred = svmC.predict(te_features2)\n",
    "accuracy = round(accuracy_score(te_labels2, y_pred), 3)\n",
    "precision = round(precision_score(te_labels2, y_pred, average=\"macro\"), 3)\n",
    "recall = round(recall_score(te_labels2, y_pred, average=\"macro\"), 3)\n",
    "print('Kernel: {} / C: {} -- A: {} / P: {} / R: {}'.format(svmC.kernel,\n",
    "                                                                     svmC.C,\n",
    "                                                                     accuracy,\n",
    "                                                                     precision,\n",
    "                                                                     recall))"
   ]
  },
  {
   "cell_type": "markdown",
   "id": "f908b2e1",
   "metadata": {},
   "source": [
    "**_Sketching the Learning Curves for Support Vector Machines_**"
   ]
  },
  {
   "cell_type": "code",
   "execution_count": 54,
   "id": "1d42bc29",
   "metadata": {},
   "outputs": [
    {
     "data": {
      "image/png": "[encoded data removed]",
      "text/plain": [
       "<Figure size 720x1080 with 6 Axes>"
      ]
     },
     "metadata": {
      "needs_background": "light"
     },
     "output_type": "display_data"
    }
   ],
   "source": [
    "fig, axes = plt.subplots(3, 2, figsize=(10, 15))\n",
    "\n",
    "X, y = load_digits(return_X_y=True)\n",
    "\n",
    "title = \"Learning Curves (Ratio 1: SVM)\"\n",
    "# Cross validation with 50 iterations to get smoother mean test and train\n",
    "# score curves, each time with 20% data randomly selected as a validation set.\n",
    "cv = ShuffleSplit(n_splits=50, test_size=0.2, random_state=0)\n",
    "\n",
    "estimator = SVC()\n",
    "plot_learning_curve(\n",
    "    estimator, title, tr_features1, tr_labels1.values.ravel(), axes=axes[:, 0], ylim=(0.7, 1.01), cv=cv, n_jobs=4\n",
    ")\n",
    "\n",
    "title = r\"Learning Curves (Ratio 2: SVM)\"\n",
    "# SVC is more expensive so we do a lower number of CV iterations:\n",
    "cv = ShuffleSplit(n_splits=50, test_size=0.1, random_state=0)\n",
    "estimator = SVC()\n",
    "plot_learning_curve(\n",
    "    estimator, title, tr_features2, tr_labels2.values.ravel(), axes=axes[:, 1], ylim=(0.7, 1.01), cv=cv, n_jobs=4\n",
    ")\n",
    "\n",
    "plt.show()"
   ]
  },
  {
   "cell_type": "markdown",
   "id": "00483c0c",
   "metadata": {},
   "source": [
    "### 3. Logistic Regression"
   ]
  },
  {
   "cell_type": "markdown",
   "id": "35e0dd0c",
   "metadata": {},
   "source": [
    "#### For Ratio 1"
   ]
  },
  {
   "cell_type": "code",
   "execution_count": 55,
   "id": "90b93107",
   "metadata": {},
   "outputs": [],
   "source": [
    "lr_features1 = pd.read_csv('train_features1.csv')\n",
    "lr_labels1 = pd.read_csv('train_labels1.csv')"
   ]
  },
  {
   "cell_type": "markdown",
   "id": "9dd9a971",
   "metadata": {},
   "source": [
    "**_Hyperparameter Tuning_**"
   ]
  },
  {
   "cell_type": "code",
   "execution_count": 56,
   "id": "03c30a60",
   "metadata": {},
   "outputs": [],
   "source": [
    "def print_results(results):\n",
    "    print('BEST PARAMS: {}\\n'.format(results.best_params_))\n",
    "\n",
    "    means = results.cv_results_['mean_test_score']\n",
    "    stds = results.cv_results_['std_test_score']\n",
    "    for mean, std, params in zip(means, stds, results.cv_results_['params']):\n",
    "        print('{} (+/-{}) for {}'.format(round(mean, 3), round(std * 2, 3), params))"
   ]
  },
  {
   "cell_type": "code",
   "execution_count": 57,
   "id": "46155531",
   "metadata": {},
   "outputs": [
    {
     "name": "stderr",
     "output_type": "stream",
     "text": [
      "C:\\Users\\anmol\\anaconda3\\lib\\site-packages\\sklearn\\linear_model\\_logistic.py:763: ConvergenceWarning: lbfgs failed to converge (status=1):\n",
      "STOP: TOTAL NO. of ITERATIONS REACHED LIMIT.\n",
      "\n",
      "Increase the number of iterations (max_iter) or scale the data as shown in:\n",
      "    https://scikit-learn.org/stable/modules/preprocessing.html\n",
      "Please also refer to the documentation for alternative solver options:\n",
      "    https://scikit-learn.org/stable/modules/linear_model.html#logistic-regression\n",
      "  n_iter_i = _check_optimize_result(\n",
      "C:\\Users\\anmol\\anaconda3\\lib\\site-packages\\sklearn\\linear_model\\_logistic.py:763: ConvergenceWarning: lbfgs failed to converge (status=1):\n",
      "STOP: TOTAL NO. of ITERATIONS REACHED LIMIT.\n",
      "\n",
      "Increase the number of iterations (max_iter) or scale the data as shown in:\n",
      "    https://scikit-learn.org/stable/modules/preprocessing.html\n",
      "Please also refer to the documentation for alternative solver options:\n",
      "    https://scikit-learn.org/stable/modules/linear_model.html#logistic-regression\n",
      "  n_iter_i = _check_optimize_result(\n",
      "C:\\Users\\anmol\\anaconda3\\lib\\site-packages\\sklearn\\linear_model\\_logistic.py:763: ConvergenceWarning: lbfgs failed to converge (status=1):\n",
      "STOP: TOTAL NO. of ITERATIONS REACHED LIMIT.\n",
      "\n",
      "Increase the number of iterations (max_iter) or scale the data as shown in:\n",
      "    https://scikit-learn.org/stable/modules/preprocessing.html\n",
      "Please also refer to the documentation for alternative solver options:\n",
      "    https://scikit-learn.org/stable/modules/linear_model.html#logistic-regression\n",
      "  n_iter_i = _check_optimize_result(\n",
      "C:\\Users\\anmol\\anaconda3\\lib\\site-packages\\sklearn\\linear_model\\_logistic.py:763: ConvergenceWarning: lbfgs failed to converge (status=1):\n",
      "STOP: TOTAL NO. of ITERATIONS REACHED LIMIT.\n",
      "\n",
      "Increase the number of iterations (max_iter) or scale the data as shown in:\n",
      "    https://scikit-learn.org/stable/modules/preprocessing.html\n",
      "Please also refer to the documentation for alternative solver options:\n",
      "    https://scikit-learn.org/stable/modules/linear_model.html#logistic-regression\n",
      "  n_iter_i = _check_optimize_result(\n",
      "C:\\Users\\anmol\\anaconda3\\lib\\site-packages\\sklearn\\linear_model\\_logistic.py:763: ConvergenceWarning: lbfgs failed to converge (status=1):\n",
      "STOP: TOTAL NO. of ITERATIONS REACHED LIMIT.\n",
      "\n",
      "Increase the number of iterations (max_iter) or scale the data as shown in:\n",
      "    https://scikit-learn.org/stable/modules/preprocessing.html\n",
      "Please also refer to the documentation for alternative solver options:\n",
      "    https://scikit-learn.org/stable/modules/linear_model.html#logistic-regression\n",
      "  n_iter_i = _check_optimize_result(\n",
      "C:\\Users\\anmol\\anaconda3\\lib\\site-packages\\sklearn\\linear_model\\_logistic.py:763: ConvergenceWarning: lbfgs failed to converge (status=1):\n",
      "STOP: TOTAL NO. of ITERATIONS REACHED LIMIT.\n",
      "\n",
      "Increase the number of iterations (max_iter) or scale the data as shown in:\n",
      "    https://scikit-learn.org/stable/modules/preprocessing.html\n",
      "Please also refer to the documentation for alternative solver options:\n",
      "    https://scikit-learn.org/stable/modules/linear_model.html#logistic-regression\n",
      "  n_iter_i = _check_optimize_result(\n",
      "C:\\Users\\anmol\\anaconda3\\lib\\site-packages\\sklearn\\linear_model\\_logistic.py:763: ConvergenceWarning: lbfgs failed to converge (status=1):\n",
      "STOP: TOTAL NO. of ITERATIONS REACHED LIMIT.\n",
      "\n",
      "Increase the number of iterations (max_iter) or scale the data as shown in:\n",
      "    https://scikit-learn.org/stable/modules/preprocessing.html\n",
      "Please also refer to the documentation for alternative solver options:\n",
      "    https://scikit-learn.org/stable/modules/linear_model.html#logistic-regression\n",
      "  n_iter_i = _check_optimize_result(\n",
      "C:\\Users\\anmol\\anaconda3\\lib\\site-packages\\sklearn\\linear_model\\_logistic.py:763: ConvergenceWarning: lbfgs failed to converge (status=1):\n",
      "STOP: TOTAL NO. of ITERATIONS REACHED LIMIT.\n",
      "\n",
      "Increase the number of iterations (max_iter) or scale the data as shown in:\n",
      "    https://scikit-learn.org/stable/modules/preprocessing.html\n",
      "Please also refer to the documentation for alternative solver options:\n",
      "    https://scikit-learn.org/stable/modules/linear_model.html#logistic-regression\n",
      "  n_iter_i = _check_optimize_result(\n",
      "C:\\Users\\anmol\\anaconda3\\lib\\site-packages\\sklearn\\linear_model\\_logistic.py:763: ConvergenceWarning: lbfgs failed to converge (status=1):\n",
      "STOP: TOTAL NO. of ITERATIONS REACHED LIMIT.\n",
      "\n",
      "Increase the number of iterations (max_iter) or scale the data as shown in:\n",
      "    https://scikit-learn.org/stable/modules/preprocessing.html\n",
      "Please also refer to the documentation for alternative solver options:\n",
      "    https://scikit-learn.org/stable/modules/linear_model.html#logistic-regression\n",
      "  n_iter_i = _check_optimize_result(\n",
      "C:\\Users\\anmol\\anaconda3\\lib\\site-packages\\sklearn\\linear_model\\_logistic.py:763: ConvergenceWarning: lbfgs failed to converge (status=1):\n",
      "STOP: TOTAL NO. of ITERATIONS REACHED LIMIT.\n",
      "\n",
      "Increase the number of iterations (max_iter) or scale the data as shown in:\n",
      "    https://scikit-learn.org/stable/modules/preprocessing.html\n",
      "Please also refer to the documentation for alternative solver options:\n",
      "    https://scikit-learn.org/stable/modules/linear_model.html#logistic-regression\n",
      "  n_iter_i = _check_optimize_result(\n",
      "C:\\Users\\anmol\\anaconda3\\lib\\site-packages\\sklearn\\linear_model\\_logistic.py:763: ConvergenceWarning: lbfgs failed to converge (status=1):\n",
      "STOP: TOTAL NO. of ITERATIONS REACHED LIMIT.\n",
      "\n",
      "Increase the number of iterations (max_iter) or scale the data as shown in:\n",
      "    https://scikit-learn.org/stable/modules/preprocessing.html\n",
      "Please also refer to the documentation for alternative solver options:\n",
      "    https://scikit-learn.org/stable/modules/linear_model.html#logistic-regression\n",
      "  n_iter_i = _check_optimize_result(\n",
      "C:\\Users\\anmol\\anaconda3\\lib\\site-packages\\sklearn\\linear_model\\_logistic.py:763: ConvergenceWarning: lbfgs failed to converge (status=1):\n",
      "STOP: TOTAL NO. of ITERATIONS REACHED LIMIT.\n",
      "\n",
      "Increase the number of iterations (max_iter) or scale the data as shown in:\n",
      "    https://scikit-learn.org/stable/modules/preprocessing.html\n",
      "Please also refer to the documentation for alternative solver options:\n",
      "    https://scikit-learn.org/stable/modules/linear_model.html#logistic-regression\n",
      "  n_iter_i = _check_optimize_result(\n",
      "C:\\Users\\anmol\\anaconda3\\lib\\site-packages\\sklearn\\linear_model\\_logistic.py:763: ConvergenceWarning: lbfgs failed to converge (status=1):\n",
      "STOP: TOTAL NO. of ITERATIONS REACHED LIMIT.\n",
      "\n",
      "Increase the number of iterations (max_iter) or scale the data as shown in:\n",
      "    https://scikit-learn.org/stable/modules/preprocessing.html\n",
      "Please also refer to the documentation for alternative solver options:\n",
      "    https://scikit-learn.org/stable/modules/linear_model.html#logistic-regression\n",
      "  n_iter_i = _check_optimize_result(\n",
      "C:\\Users\\anmol\\anaconda3\\lib\\site-packages\\sklearn\\linear_model\\_logistic.py:763: ConvergenceWarning: lbfgs failed to converge (status=1):\n",
      "STOP: TOTAL NO. of ITERATIONS REACHED LIMIT.\n",
      "\n",
      "Increase the number of iterations (max_iter) or scale the data as shown in:\n",
      "    https://scikit-learn.org/stable/modules/preprocessing.html\n",
      "Please also refer to the documentation for alternative solver options:\n",
      "    https://scikit-learn.org/stable/modules/linear_model.html#logistic-regression\n",
      "  n_iter_i = _check_optimize_result(\n",
      "C:\\Users\\anmol\\anaconda3\\lib\\site-packages\\sklearn\\linear_model\\_logistic.py:763: ConvergenceWarning: lbfgs failed to converge (status=1):\n",
      "STOP: TOTAL NO. of ITERATIONS REACHED LIMIT.\n",
      "\n",
      "Increase the number of iterations (max_iter) or scale the data as shown in:\n",
      "    https://scikit-learn.org/stable/modules/preprocessing.html\n",
      "Please also refer to the documentation for alternative solver options:\n",
      "    https://scikit-learn.org/stable/modules/linear_model.html#logistic-regression\n",
      "  n_iter_i = _check_optimize_result(\n",
      "C:\\Users\\anmol\\anaconda3\\lib\\site-packages\\sklearn\\linear_model\\_logistic.py:763: ConvergenceWarning: lbfgs failed to converge (status=1):\n",
      "STOP: TOTAL NO. of ITERATIONS REACHED LIMIT.\n",
      "\n",
      "Increase the number of iterations (max_iter) or scale the data as shown in:\n",
      "    https://scikit-learn.org/stable/modules/preprocessing.html\n",
      "Please also refer to the documentation for alternative solver options:\n",
      "    https://scikit-learn.org/stable/modules/linear_model.html#logistic-regression\n",
      "  n_iter_i = _check_optimize_result(\n",
      "C:\\Users\\anmol\\anaconda3\\lib\\site-packages\\sklearn\\linear_model\\_logistic.py:763: ConvergenceWarning: lbfgs failed to converge (status=1):\n",
      "STOP: TOTAL NO. of ITERATIONS REACHED LIMIT.\n",
      "\n",
      "Increase the number of iterations (max_iter) or scale the data as shown in:\n",
      "    https://scikit-learn.org/stable/modules/preprocessing.html\n",
      "Please also refer to the documentation for alternative solver options:\n",
      "    https://scikit-learn.org/stable/modules/linear_model.html#logistic-regression\n",
      "  n_iter_i = _check_optimize_result(\n",
      "C:\\Users\\anmol\\anaconda3\\lib\\site-packages\\sklearn\\linear_model\\_logistic.py:763: ConvergenceWarning: lbfgs failed to converge (status=1):\n",
      "STOP: TOTAL NO. of ITERATIONS REACHED LIMIT.\n",
      "\n",
      "Increase the number of iterations (max_iter) or scale the data as shown in:\n",
      "    https://scikit-learn.org/stable/modules/preprocessing.html\n",
      "Please also refer to the documentation for alternative solver options:\n",
      "    https://scikit-learn.org/stable/modules/linear_model.html#logistic-regression\n",
      "  n_iter_i = _check_optimize_result(\n",
      "C:\\Users\\anmol\\anaconda3\\lib\\site-packages\\sklearn\\linear_model\\_logistic.py:763: ConvergenceWarning: lbfgs failed to converge (status=1):\n",
      "STOP: TOTAL NO. of ITERATIONS REACHED LIMIT.\n",
      "\n",
      "Increase the number of iterations (max_iter) or scale the data as shown in:\n",
      "    https://scikit-learn.org/stable/modules/preprocessing.html\n",
      "Please also refer to the documentation for alternative solver options:\n",
      "    https://scikit-learn.org/stable/modules/linear_model.html#logistic-regression\n",
      "  n_iter_i = _check_optimize_result(\n",
      "C:\\Users\\anmol\\anaconda3\\lib\\site-packages\\sklearn\\linear_model\\_logistic.py:763: ConvergenceWarning: lbfgs failed to converge (status=1):\n",
      "STOP: TOTAL NO. of ITERATIONS REACHED LIMIT.\n",
      "\n",
      "Increase the number of iterations (max_iter) or scale the data as shown in:\n",
      "    https://scikit-learn.org/stable/modules/preprocessing.html\n",
      "Please also refer to the documentation for alternative solver options:\n",
      "    https://scikit-learn.org/stable/modules/linear_model.html#logistic-regression\n",
      "  n_iter_i = _check_optimize_result(\n",
      "C:\\Users\\anmol\\anaconda3\\lib\\site-packages\\sklearn\\linear_model\\_logistic.py:763: ConvergenceWarning: lbfgs failed to converge (status=1):\n",
      "STOP: TOTAL NO. of ITERATIONS REACHED LIMIT.\n",
      "\n",
      "Increase the number of iterations (max_iter) or scale the data as shown in:\n",
      "    https://scikit-learn.org/stable/modules/preprocessing.html\n",
      "Please also refer to the documentation for alternative solver options:\n",
      "    https://scikit-learn.org/stable/modules/linear_model.html#logistic-regression\n",
      "  n_iter_i = _check_optimize_result(\n",
      "C:\\Users\\anmol\\anaconda3\\lib\\site-packages\\sklearn\\linear_model\\_logistic.py:763: ConvergenceWarning: lbfgs failed to converge (status=1):\n",
      "STOP: TOTAL NO. of ITERATIONS REACHED LIMIT.\n",
      "\n",
      "Increase the number of iterations (max_iter) or scale the data as shown in:\n",
      "    https://scikit-learn.org/stable/modules/preprocessing.html\n",
      "Please also refer to the documentation for alternative solver options:\n",
      "    https://scikit-learn.org/stable/modules/linear_model.html#logistic-regression\n",
      "  n_iter_i = _check_optimize_result(\n"
     ]
    },
    {
     "name": "stderr",
     "output_type": "stream",
     "text": [
      "C:\\Users\\anmol\\anaconda3\\lib\\site-packages\\sklearn\\linear_model\\_logistic.py:763: ConvergenceWarning: lbfgs failed to converge (status=1):\n",
      "STOP: TOTAL NO. of ITERATIONS REACHED LIMIT.\n",
      "\n",
      "Increase the number of iterations (max_iter) or scale the data as shown in:\n",
      "    https://scikit-learn.org/stable/modules/preprocessing.html\n",
      "Please also refer to the documentation for alternative solver options:\n",
      "    https://scikit-learn.org/stable/modules/linear_model.html#logistic-regression\n",
      "  n_iter_i = _check_optimize_result(\n",
      "C:\\Users\\anmol\\anaconda3\\lib\\site-packages\\sklearn\\linear_model\\_logistic.py:763: ConvergenceWarning: lbfgs failed to converge (status=1):\n",
      "STOP: TOTAL NO. of ITERATIONS REACHED LIMIT.\n",
      "\n",
      "Increase the number of iterations (max_iter) or scale the data as shown in:\n",
      "    https://scikit-learn.org/stable/modules/preprocessing.html\n",
      "Please also refer to the documentation for alternative solver options:\n",
      "    https://scikit-learn.org/stable/modules/linear_model.html#logistic-regression\n",
      "  n_iter_i = _check_optimize_result(\n",
      "C:\\Users\\anmol\\anaconda3\\lib\\site-packages\\sklearn\\linear_model\\_logistic.py:763: ConvergenceWarning: lbfgs failed to converge (status=1):\n",
      "STOP: TOTAL NO. of ITERATIONS REACHED LIMIT.\n",
      "\n",
      "Increase the number of iterations (max_iter) or scale the data as shown in:\n",
      "    https://scikit-learn.org/stable/modules/preprocessing.html\n",
      "Please also refer to the documentation for alternative solver options:\n",
      "    https://scikit-learn.org/stable/modules/linear_model.html#logistic-regression\n",
      "  n_iter_i = _check_optimize_result(\n",
      "C:\\Users\\anmol\\anaconda3\\lib\\site-packages\\sklearn\\linear_model\\_logistic.py:763: ConvergenceWarning: lbfgs failed to converge (status=1):\n",
      "STOP: TOTAL NO. of ITERATIONS REACHED LIMIT.\n",
      "\n",
      "Increase the number of iterations (max_iter) or scale the data as shown in:\n",
      "    https://scikit-learn.org/stable/modules/preprocessing.html\n",
      "Please also refer to the documentation for alternative solver options:\n",
      "    https://scikit-learn.org/stable/modules/linear_model.html#logistic-regression\n",
      "  n_iter_i = _check_optimize_result(\n",
      "C:\\Users\\anmol\\anaconda3\\lib\\site-packages\\sklearn\\linear_model\\_logistic.py:763: ConvergenceWarning: lbfgs failed to converge (status=1):\n",
      "STOP: TOTAL NO. of ITERATIONS REACHED LIMIT.\n",
      "\n",
      "Increase the number of iterations (max_iter) or scale the data as shown in:\n",
      "    https://scikit-learn.org/stable/modules/preprocessing.html\n",
      "Please also refer to the documentation for alternative solver options:\n",
      "    https://scikit-learn.org/stable/modules/linear_model.html#logistic-regression\n",
      "  n_iter_i = _check_optimize_result(\n",
      "C:\\Users\\anmol\\anaconda3\\lib\\site-packages\\sklearn\\linear_model\\_logistic.py:763: ConvergenceWarning: lbfgs failed to converge (status=1):\n",
      "STOP: TOTAL NO. of ITERATIONS REACHED LIMIT.\n",
      "\n",
      "Increase the number of iterations (max_iter) or scale the data as shown in:\n",
      "    https://scikit-learn.org/stable/modules/preprocessing.html\n",
      "Please also refer to the documentation for alternative solver options:\n",
      "    https://scikit-learn.org/stable/modules/linear_model.html#logistic-regression\n",
      "  n_iter_i = _check_optimize_result(\n",
      "C:\\Users\\anmol\\anaconda3\\lib\\site-packages\\sklearn\\linear_model\\_logistic.py:763: ConvergenceWarning: lbfgs failed to converge (status=1):\n",
      "STOP: TOTAL NO. of ITERATIONS REACHED LIMIT.\n",
      "\n",
      "Increase the number of iterations (max_iter) or scale the data as shown in:\n",
      "    https://scikit-learn.org/stable/modules/preprocessing.html\n",
      "Please also refer to the documentation for alternative solver options:\n",
      "    https://scikit-learn.org/stable/modules/linear_model.html#logistic-regression\n",
      "  n_iter_i = _check_optimize_result(\n",
      "C:\\Users\\anmol\\anaconda3\\lib\\site-packages\\sklearn\\linear_model\\_logistic.py:763: ConvergenceWarning: lbfgs failed to converge (status=1):\n",
      "STOP: TOTAL NO. of ITERATIONS REACHED LIMIT.\n",
      "\n",
      "Increase the number of iterations (max_iter) or scale the data as shown in:\n",
      "    https://scikit-learn.org/stable/modules/preprocessing.html\n",
      "Please also refer to the documentation for alternative solver options:\n",
      "    https://scikit-learn.org/stable/modules/linear_model.html#logistic-regression\n",
      "  n_iter_i = _check_optimize_result(\n"
     ]
    },
    {
     "name": "stdout",
     "output_type": "stream",
     "text": [
      "BEST PARAMS: {'C': 0.1}\n",
      "\n",
      "0.869 (+/-0.064) for {'C': 0.001}\n",
      "0.976 (+/-0.031) for {'C': 0.01}\n",
      "0.981 (+/-0.019) for {'C': 0.1}\n",
      "0.981 (+/-0.019) for {'C': 1}\n",
      "0.976 (+/-0.031) for {'C': 10}\n",
      "0.976 (+/-0.031) for {'C': 100}\n",
      "0.971 (+/-0.036) for {'C': 1000}\n"
     ]
    },
    {
     "name": "stderr",
     "output_type": "stream",
     "text": [
      "C:\\Users\\anmol\\anaconda3\\lib\\site-packages\\sklearn\\linear_model\\_logistic.py:763: ConvergenceWarning: lbfgs failed to converge (status=1):\n",
      "STOP: TOTAL NO. of ITERATIONS REACHED LIMIT.\n",
      "\n",
      "Increase the number of iterations (max_iter) or scale the data as shown in:\n",
      "    https://scikit-learn.org/stable/modules/preprocessing.html\n",
      "Please also refer to the documentation for alternative solver options:\n",
      "    https://scikit-learn.org/stable/modules/linear_model.html#logistic-regression\n",
      "  n_iter_i = _check_optimize_result(\n",
      "C:\\Users\\anmol\\anaconda3\\lib\\site-packages\\sklearn\\linear_model\\_logistic.py:763: ConvergenceWarning: lbfgs failed to converge (status=1):\n",
      "STOP: TOTAL NO. of ITERATIONS REACHED LIMIT.\n",
      "\n",
      "Increase the number of iterations (max_iter) or scale the data as shown in:\n",
      "    https://scikit-learn.org/stable/modules/preprocessing.html\n",
      "Please also refer to the documentation for alternative solver options:\n",
      "    https://scikit-learn.org/stable/modules/linear_model.html#logistic-regression\n",
      "  n_iter_i = _check_optimize_result(\n",
      "C:\\Users\\anmol\\anaconda3\\lib\\site-packages\\sklearn\\linear_model\\_logistic.py:763: ConvergenceWarning: lbfgs failed to converge (status=1):\n",
      "STOP: TOTAL NO. of ITERATIONS REACHED LIMIT.\n",
      "\n",
      "Increase the number of iterations (max_iter) or scale the data as shown in:\n",
      "    https://scikit-learn.org/stable/modules/preprocessing.html\n",
      "Please also refer to the documentation for alternative solver options:\n",
      "    https://scikit-learn.org/stable/modules/linear_model.html#logistic-regression\n",
      "  n_iter_i = _check_optimize_result(\n",
      "C:\\Users\\anmol\\anaconda3\\lib\\site-packages\\sklearn\\linear_model\\_logistic.py:763: ConvergenceWarning: lbfgs failed to converge (status=1):\n",
      "STOP: TOTAL NO. of ITERATIONS REACHED LIMIT.\n",
      "\n",
      "Increase the number of iterations (max_iter) or scale the data as shown in:\n",
      "    https://scikit-learn.org/stable/modules/preprocessing.html\n",
      "Please also refer to the documentation for alternative solver options:\n",
      "    https://scikit-learn.org/stable/modules/linear_model.html#logistic-regression\n",
      "  n_iter_i = _check_optimize_result(\n"
     ]
    }
   ],
   "source": [
    "lr1 = LogisticRegression()\n",
    "parameters = {\n",
    "    'C': [0.001, 0.01, 0.1, 1, 10, 100, 1000]\n",
    "}\n",
    "\n",
    "cv = GridSearchCV(lr1, parameters, cv=5)\n",
    "cv.fit(lr_features1, lr_labels1.values.ravel())\n",
    "\n",
    "print_results(cv)"
   ]
  },
  {
   "cell_type": "code",
   "execution_count": 58,
   "id": "45186150",
   "metadata": {},
   "outputs": [
    {
     "data": {
      "text/plain": [
       "LogisticRegression(C=0.1)"
      ]
     },
     "execution_count": 58,
     "metadata": {},
     "output_type": "execute_result"
    }
   ],
   "source": [
    "cv.best_estimator_"
   ]
  },
  {
   "cell_type": "code",
   "execution_count": 59,
   "id": "f4be78ae",
   "metadata": {},
   "outputs": [
    {
     "data": {
      "text/plain": [
       "['LR_model1.pkl']"
      ]
     },
     "execution_count": 59,
     "metadata": {},
     "output_type": "execute_result"
    }
   ],
   "source": [
    "joblib.dump(cv.best_estimator_, 'LR_model1.pkl')"
   ]
  },
  {
   "cell_type": "markdown",
   "id": "b2792e16",
   "metadata": {},
   "source": [
    "**_Read out data for split ratio 1_**"
   ]
  },
  {
   "cell_type": "code",
   "execution_count": 60,
   "id": "a3a253f9",
   "metadata": {},
   "outputs": [],
   "source": [
    "tr_features1 = pd.read_csv('train_features1.csv')\n",
    "tr_labels1 = pd.read_csv('train_labels1.csv')\n",
    "\n",
    "val_features1 = pd.read_csv('val_features1.csv')\n",
    "val_labels1 = pd.read_csv('val_labels1.csv')\n",
    "\n",
    "te_features1 = pd.read_csv('test_features1.csv')\n",
    "te_labels1 = pd.read_csv('test_labels1.csv')"
   ]
  },
  {
   "cell_type": "markdown",
   "id": "d0e8c7af",
   "metadata": {},
   "source": [
    "**_Fit the best models on the Training set_**"
   ]
  },
  {
   "cell_type": "code",
   "execution_count": 61,
   "id": "465989c1",
   "metadata": {},
   "outputs": [
    {
     "name": "stderr",
     "output_type": "stream",
     "text": [
      "C:\\Users\\anmol\\anaconda3\\lib\\site-packages\\sklearn\\linear_model\\_logistic.py:763: ConvergenceWarning: lbfgs failed to converge (status=1):\n",
      "STOP: TOTAL NO. of ITERATIONS REACHED LIMIT.\n",
      "\n",
      "Increase the number of iterations (max_iter) or scale the data as shown in:\n",
      "    https://scikit-learn.org/stable/modules/preprocessing.html\n",
      "Please also refer to the documentation for alternative solver options:\n",
      "    https://scikit-learn.org/stable/modules/linear_model.html#logistic-regression\n",
      "  n_iter_i = _check_optimize_result(\n",
      "C:\\Users\\anmol\\anaconda3\\lib\\site-packages\\sklearn\\linear_model\\_logistic.py:763: ConvergenceWarning: lbfgs failed to converge (status=1):\n",
      "STOP: TOTAL NO. of ITERATIONS REACHED LIMIT.\n",
      "\n",
      "Increase the number of iterations (max_iter) or scale the data as shown in:\n",
      "    https://scikit-learn.org/stable/modules/preprocessing.html\n",
      "Please also refer to the documentation for alternative solver options:\n",
      "    https://scikit-learn.org/stable/modules/linear_model.html#logistic-regression\n",
      "  n_iter_i = _check_optimize_result(\n",
      "C:\\Users\\anmol\\anaconda3\\lib\\site-packages\\sklearn\\linear_model\\_logistic.py:763: ConvergenceWarning: lbfgs failed to converge (status=1):\n",
      "STOP: TOTAL NO. of ITERATIONS REACHED LIMIT.\n",
      "\n",
      "Increase the number of iterations (max_iter) or scale the data as shown in:\n",
      "    https://scikit-learn.org/stable/modules/preprocessing.html\n",
      "Please also refer to the documentation for alternative solver options:\n",
      "    https://scikit-learn.org/stable/modules/linear_model.html#logistic-regression\n",
      "  n_iter_i = _check_optimize_result(\n"
     ]
    },
    {
     "data": {
      "text/plain": [
       "LogisticRegression(C=100)"
      ]
     },
     "execution_count": 61,
     "metadata": {},
     "output_type": "execute_result"
    }
   ],
   "source": [
    "lrA = LogisticRegression(C=0.01)\n",
    "lrA.fit(tr_features1, tr_labels1.values.ravel())\n",
    "\n",
    "lrB = LogisticRegression(C=0.1)\n",
    "lrB.fit(tr_features1, tr_labels1.values.ravel())\n",
    "\n",
    "lrC = LogisticRegression(C=100)\n",
    "lrC.fit(tr_features1, tr_labels1.values.ravel())"
   ]
  },
  {
   "cell_type": "markdown",
   "id": "20cba6a2",
   "metadata": {},
   "source": [
    "**_Evaluate the results on the Validation Set_**"
   ]
  },
  {
   "cell_type": "code",
   "execution_count": 62,
   "id": "70c94321",
   "metadata": {},
   "outputs": [
    {
     "name": "stdout",
     "output_type": "stream",
     "text": [
      "C: 0.01 -- A: 0.986 / P: 0.987 / R: 0.99\n",
      "C: 0.1 -- A: 1.0 / P: 1.0 / R: 1.0\n",
      "C: 100 -- A: 0.986 / P: 0.974 / R: 0.987\n"
     ]
    }
   ],
   "source": [
    "for mdl in [lrA, lrB, lrC]:\n",
    "    y_pred = mdl.predict(val_features1)\n",
    "    accuracy = round(accuracy_score(val_labels1, y_pred), 3)\n",
    "    precision = round(precision_score(val_labels1, y_pred, average=\"macro\"), 3)\n",
    "    recall = round(recall_score(val_labels1, y_pred, average=\"macro\"), 3)\n",
    "    print('C: {} -- A: {} / P: {} / R: {}'.format(mdl.C,                                                                    \n",
    "                                                                         accuracy,\n",
    "                                                                         precision,\n",
    "                                                                         recall))"
   ]
  },
  {
   "cell_type": "markdown",
   "id": "a5f57529",
   "metadata": {},
   "source": [
    "**_Evaluating the best model on the Test set_**"
   ]
  },
  {
   "cell_type": "code",
   "execution_count": 63,
   "id": "40f44ded",
   "metadata": {},
   "outputs": [
    {
     "name": "stdout",
     "output_type": "stream",
     "text": [
      "C: 0.1 -- A: 0.971 / P: 0.976 / R: 0.976\n"
     ]
    }
   ],
   "source": [
    "y_pred = lrB.predict(te_features1)\n",
    "accuracy = round(accuracy_score(te_labels1, y_pred), 3)\n",
    "precision = round(precision_score(te_labels1, y_pred, average=\"macro\"), 3)\n",
    "recall = round(recall_score(te_labels1, y_pred, average=\"macro\"), 3)\n",
    "print('C: {} -- A: {} / P: {} / R: {}'.format(lrB.C,\n",
    "                                                                     accuracy,\n",
    "                                                                     precision,\n",
    "                                                                     recall))"
   ]
  },
  {
   "cell_type": "markdown",
   "id": "4dfeb21e",
   "metadata": {},
   "source": [
    "#### For Ratio 2"
   ]
  },
  {
   "cell_type": "code",
   "execution_count": 64,
   "id": "f91e2144",
   "metadata": {},
   "outputs": [],
   "source": [
    "lr_features2 = pd.read_csv('train_features2.csv')\n",
    "lr_labels2 = pd.read_csv('train_labels2.csv')"
   ]
  },
  {
   "cell_type": "markdown",
   "id": "7c3ee9d7",
   "metadata": {},
   "source": [
    "**_Hyperparameter Tuning_**"
   ]
  },
  {
   "cell_type": "code",
   "execution_count": 65,
   "id": "a662c613",
   "metadata": {},
   "outputs": [],
   "source": [
    "def print_results(results):\n",
    "    print('BEST PARAMS: {}\\n'.format(results.best_params_))\n",
    "\n",
    "    means = results.cv_results_['mean_test_score']\n",
    "    stds = results.cv_results_['std_test_score']\n",
    "    for mean, std, params in zip(means, stds, results.cv_results_['params']):\n",
    "        print('{} (+/-{}) for {}'.format(round(mean, 3), round(std * 2, 3), params))"
   ]
  },
  {
   "cell_type": "code",
   "execution_count": 66,
   "id": "70b323e1",
   "metadata": {},
   "outputs": [
    {
     "name": "stderr",
     "output_type": "stream",
     "text": [
      "C:\\Users\\anmol\\anaconda3\\lib\\site-packages\\sklearn\\linear_model\\_logistic.py:763: ConvergenceWarning: lbfgs failed to converge (status=1):\n",
      "STOP: TOTAL NO. of ITERATIONS REACHED LIMIT.\n",
      "\n",
      "Increase the number of iterations (max_iter) or scale the data as shown in:\n",
      "    https://scikit-learn.org/stable/modules/preprocessing.html\n",
      "Please also refer to the documentation for alternative solver options:\n",
      "    https://scikit-learn.org/stable/modules/linear_model.html#logistic-regression\n",
      "  n_iter_i = _check_optimize_result(\n",
      "C:\\Users\\anmol\\anaconda3\\lib\\site-packages\\sklearn\\linear_model\\_logistic.py:763: ConvergenceWarning: lbfgs failed to converge (status=1):\n",
      "STOP: TOTAL NO. of ITERATIONS REACHED LIMIT.\n",
      "\n",
      "Increase the number of iterations (max_iter) or scale the data as shown in:\n",
      "    https://scikit-learn.org/stable/modules/preprocessing.html\n",
      "Please also refer to the documentation for alternative solver options:\n",
      "    https://scikit-learn.org/stable/modules/linear_model.html#logistic-regression\n",
      "  n_iter_i = _check_optimize_result(\n",
      "C:\\Users\\anmol\\anaconda3\\lib\\site-packages\\sklearn\\linear_model\\_logistic.py:763: ConvergenceWarning: lbfgs failed to converge (status=1):\n",
      "STOP: TOTAL NO. of ITERATIONS REACHED LIMIT.\n",
      "\n",
      "Increase the number of iterations (max_iter) or scale the data as shown in:\n",
      "    https://scikit-learn.org/stable/modules/preprocessing.html\n",
      "Please also refer to the documentation for alternative solver options:\n",
      "    https://scikit-learn.org/stable/modules/linear_model.html#logistic-regression\n",
      "  n_iter_i = _check_optimize_result(\n",
      "C:\\Users\\anmol\\anaconda3\\lib\\site-packages\\sklearn\\linear_model\\_logistic.py:763: ConvergenceWarning: lbfgs failed to converge (status=1):\n",
      "STOP: TOTAL NO. of ITERATIONS REACHED LIMIT.\n",
      "\n",
      "Increase the number of iterations (max_iter) or scale the data as shown in:\n",
      "    https://scikit-learn.org/stable/modules/preprocessing.html\n",
      "Please also refer to the documentation for alternative solver options:\n",
      "    https://scikit-learn.org/stable/modules/linear_model.html#logistic-regression\n",
      "  n_iter_i = _check_optimize_result(\n",
      "C:\\Users\\anmol\\anaconda3\\lib\\site-packages\\sklearn\\linear_model\\_logistic.py:763: ConvergenceWarning: lbfgs failed to converge (status=1):\n",
      "STOP: TOTAL NO. of ITERATIONS REACHED LIMIT.\n",
      "\n",
      "Increase the number of iterations (max_iter) or scale the data as shown in:\n",
      "    https://scikit-learn.org/stable/modules/preprocessing.html\n",
      "Please also refer to the documentation for alternative solver options:\n",
      "    https://scikit-learn.org/stable/modules/linear_model.html#logistic-regression\n",
      "  n_iter_i = _check_optimize_result(\n",
      "C:\\Users\\anmol\\anaconda3\\lib\\site-packages\\sklearn\\linear_model\\_logistic.py:763: ConvergenceWarning: lbfgs failed to converge (status=1):\n",
      "STOP: TOTAL NO. of ITERATIONS REACHED LIMIT.\n",
      "\n",
      "Increase the number of iterations (max_iter) or scale the data as shown in:\n",
      "    https://scikit-learn.org/stable/modules/preprocessing.html\n",
      "Please also refer to the documentation for alternative solver options:\n",
      "    https://scikit-learn.org/stable/modules/linear_model.html#logistic-regression\n",
      "  n_iter_i = _check_optimize_result(\n",
      "C:\\Users\\anmol\\anaconda3\\lib\\site-packages\\sklearn\\linear_model\\_logistic.py:763: ConvergenceWarning: lbfgs failed to converge (status=1):\n",
      "STOP: TOTAL NO. of ITERATIONS REACHED LIMIT.\n",
      "\n",
      "Increase the number of iterations (max_iter) or scale the data as shown in:\n",
      "    https://scikit-learn.org/stable/modules/preprocessing.html\n",
      "Please also refer to the documentation for alternative solver options:\n",
      "    https://scikit-learn.org/stable/modules/linear_model.html#logistic-regression\n",
      "  n_iter_i = _check_optimize_result(\n",
      "C:\\Users\\anmol\\anaconda3\\lib\\site-packages\\sklearn\\linear_model\\_logistic.py:763: ConvergenceWarning: lbfgs failed to converge (status=1):\n",
      "STOP: TOTAL NO. of ITERATIONS REACHED LIMIT.\n",
      "\n",
      "Increase the number of iterations (max_iter) or scale the data as shown in:\n",
      "    https://scikit-learn.org/stable/modules/preprocessing.html\n",
      "Please also refer to the documentation for alternative solver options:\n",
      "    https://scikit-learn.org/stable/modules/linear_model.html#logistic-regression\n",
      "  n_iter_i = _check_optimize_result(\n",
      "C:\\Users\\anmol\\anaconda3\\lib\\site-packages\\sklearn\\linear_model\\_logistic.py:763: ConvergenceWarning: lbfgs failed to converge (status=1):\n",
      "STOP: TOTAL NO. of ITERATIONS REACHED LIMIT.\n",
      "\n",
      "Increase the number of iterations (max_iter) or scale the data as shown in:\n",
      "    https://scikit-learn.org/stable/modules/preprocessing.html\n",
      "Please also refer to the documentation for alternative solver options:\n",
      "    https://scikit-learn.org/stable/modules/linear_model.html#logistic-regression\n",
      "  n_iter_i = _check_optimize_result(\n",
      "C:\\Users\\anmol\\anaconda3\\lib\\site-packages\\sklearn\\linear_model\\_logistic.py:763: ConvergenceWarning: lbfgs failed to converge (status=1):\n",
      "STOP: TOTAL NO. of ITERATIONS REACHED LIMIT.\n",
      "\n",
      "Increase the number of iterations (max_iter) or scale the data as shown in:\n",
      "    https://scikit-learn.org/stable/modules/preprocessing.html\n",
      "Please also refer to the documentation for alternative solver options:\n",
      "    https://scikit-learn.org/stable/modules/linear_model.html#logistic-regression\n",
      "  n_iter_i = _check_optimize_result(\n",
      "C:\\Users\\anmol\\anaconda3\\lib\\site-packages\\sklearn\\linear_model\\_logistic.py:763: ConvergenceWarning: lbfgs failed to converge (status=1):\n",
      "STOP: TOTAL NO. of ITERATIONS REACHED LIMIT.\n",
      "\n",
      "Increase the number of iterations (max_iter) or scale the data as shown in:\n",
      "    https://scikit-learn.org/stable/modules/preprocessing.html\n",
      "Please also refer to the documentation for alternative solver options:\n",
      "    https://scikit-learn.org/stable/modules/linear_model.html#logistic-regression\n",
      "  n_iter_i = _check_optimize_result(\n",
      "C:\\Users\\anmol\\anaconda3\\lib\\site-packages\\sklearn\\linear_model\\_logistic.py:763: ConvergenceWarning: lbfgs failed to converge (status=1):\n",
      "STOP: TOTAL NO. of ITERATIONS REACHED LIMIT.\n",
      "\n",
      "Increase the number of iterations (max_iter) or scale the data as shown in:\n",
      "    https://scikit-learn.org/stable/modules/preprocessing.html\n",
      "Please also refer to the documentation for alternative solver options:\n",
      "    https://scikit-learn.org/stable/modules/linear_model.html#logistic-regression\n",
      "  n_iter_i = _check_optimize_result(\n",
      "C:\\Users\\anmol\\anaconda3\\lib\\site-packages\\sklearn\\linear_model\\_logistic.py:763: ConvergenceWarning: lbfgs failed to converge (status=1):\n",
      "STOP: TOTAL NO. of ITERATIONS REACHED LIMIT.\n",
      "\n",
      "Increase the number of iterations (max_iter) or scale the data as shown in:\n",
      "    https://scikit-learn.org/stable/modules/preprocessing.html\n",
      "Please also refer to the documentation for alternative solver options:\n",
      "    https://scikit-learn.org/stable/modules/linear_model.html#logistic-regression\n",
      "  n_iter_i = _check_optimize_result(\n",
      "C:\\Users\\anmol\\anaconda3\\lib\\site-packages\\sklearn\\linear_model\\_logistic.py:763: ConvergenceWarning: lbfgs failed to converge (status=1):\n",
      "STOP: TOTAL NO. of ITERATIONS REACHED LIMIT.\n",
      "\n",
      "Increase the number of iterations (max_iter) or scale the data as shown in:\n",
      "    https://scikit-learn.org/stable/modules/preprocessing.html\n",
      "Please also refer to the documentation for alternative solver options:\n",
      "    https://scikit-learn.org/stable/modules/linear_model.html#logistic-regression\n",
      "  n_iter_i = _check_optimize_result(\n",
      "C:\\Users\\anmol\\anaconda3\\lib\\site-packages\\sklearn\\linear_model\\_logistic.py:763: ConvergenceWarning: lbfgs failed to converge (status=1):\n",
      "STOP: TOTAL NO. of ITERATIONS REACHED LIMIT.\n",
      "\n",
      "Increase the number of iterations (max_iter) or scale the data as shown in:\n",
      "    https://scikit-learn.org/stable/modules/preprocessing.html\n",
      "Please also refer to the documentation for alternative solver options:\n",
      "    https://scikit-learn.org/stable/modules/linear_model.html#logistic-regression\n",
      "  n_iter_i = _check_optimize_result(\n",
      "C:\\Users\\anmol\\anaconda3\\lib\\site-packages\\sklearn\\linear_model\\_logistic.py:763: ConvergenceWarning: lbfgs failed to converge (status=1):\n",
      "STOP: TOTAL NO. of ITERATIONS REACHED LIMIT.\n",
      "\n",
      "Increase the number of iterations (max_iter) or scale the data as shown in:\n",
      "    https://scikit-learn.org/stable/modules/preprocessing.html\n",
      "Please also refer to the documentation for alternative solver options:\n",
      "    https://scikit-learn.org/stable/modules/linear_model.html#logistic-regression\n",
      "  n_iter_i = _check_optimize_result(\n"
     ]
    },
    {
     "name": "stderr",
     "output_type": "stream",
     "text": [
      "C:\\Users\\anmol\\anaconda3\\lib\\site-packages\\sklearn\\linear_model\\_logistic.py:763: ConvergenceWarning: lbfgs failed to converge (status=1):\n",
      "STOP: TOTAL NO. of ITERATIONS REACHED LIMIT.\n",
      "\n",
      "Increase the number of iterations (max_iter) or scale the data as shown in:\n",
      "    https://scikit-learn.org/stable/modules/preprocessing.html\n",
      "Please also refer to the documentation for alternative solver options:\n",
      "    https://scikit-learn.org/stable/modules/linear_model.html#logistic-regression\n",
      "  n_iter_i = _check_optimize_result(\n",
      "C:\\Users\\anmol\\anaconda3\\lib\\site-packages\\sklearn\\linear_model\\_logistic.py:763: ConvergenceWarning: lbfgs failed to converge (status=1):\n",
      "STOP: TOTAL NO. of ITERATIONS REACHED LIMIT.\n",
      "\n",
      "Increase the number of iterations (max_iter) or scale the data as shown in:\n",
      "    https://scikit-learn.org/stable/modules/preprocessing.html\n",
      "Please also refer to the documentation for alternative solver options:\n",
      "    https://scikit-learn.org/stable/modules/linear_model.html#logistic-regression\n",
      "  n_iter_i = _check_optimize_result(\n",
      "C:\\Users\\anmol\\anaconda3\\lib\\site-packages\\sklearn\\linear_model\\_logistic.py:763: ConvergenceWarning: lbfgs failed to converge (status=1):\n",
      "STOP: TOTAL NO. of ITERATIONS REACHED LIMIT.\n",
      "\n",
      "Increase the number of iterations (max_iter) or scale the data as shown in:\n",
      "    https://scikit-learn.org/stable/modules/preprocessing.html\n",
      "Please also refer to the documentation for alternative solver options:\n",
      "    https://scikit-learn.org/stable/modules/linear_model.html#logistic-regression\n",
      "  n_iter_i = _check_optimize_result(\n",
      "C:\\Users\\anmol\\anaconda3\\lib\\site-packages\\sklearn\\linear_model\\_logistic.py:763: ConvergenceWarning: lbfgs failed to converge (status=1):\n",
      "STOP: TOTAL NO. of ITERATIONS REACHED LIMIT.\n",
      "\n",
      "Increase the number of iterations (max_iter) or scale the data as shown in:\n",
      "    https://scikit-learn.org/stable/modules/preprocessing.html\n",
      "Please also refer to the documentation for alternative solver options:\n",
      "    https://scikit-learn.org/stable/modules/linear_model.html#logistic-regression\n",
      "  n_iter_i = _check_optimize_result(\n",
      "C:\\Users\\anmol\\anaconda3\\lib\\site-packages\\sklearn\\linear_model\\_logistic.py:763: ConvergenceWarning: lbfgs failed to converge (status=1):\n",
      "STOP: TOTAL NO. of ITERATIONS REACHED LIMIT.\n",
      "\n",
      "Increase the number of iterations (max_iter) or scale the data as shown in:\n",
      "    https://scikit-learn.org/stable/modules/preprocessing.html\n",
      "Please also refer to the documentation for alternative solver options:\n",
      "    https://scikit-learn.org/stable/modules/linear_model.html#logistic-regression\n",
      "  n_iter_i = _check_optimize_result(\n",
      "C:\\Users\\anmol\\anaconda3\\lib\\site-packages\\sklearn\\linear_model\\_logistic.py:763: ConvergenceWarning: lbfgs failed to converge (status=1):\n",
      "STOP: TOTAL NO. of ITERATIONS REACHED LIMIT.\n",
      "\n",
      "Increase the number of iterations (max_iter) or scale the data as shown in:\n",
      "    https://scikit-learn.org/stable/modules/preprocessing.html\n",
      "Please also refer to the documentation for alternative solver options:\n",
      "    https://scikit-learn.org/stable/modules/linear_model.html#logistic-regression\n",
      "  n_iter_i = _check_optimize_result(\n",
      "C:\\Users\\anmol\\anaconda3\\lib\\site-packages\\sklearn\\linear_model\\_logistic.py:763: ConvergenceWarning: lbfgs failed to converge (status=1):\n",
      "STOP: TOTAL NO. of ITERATIONS REACHED LIMIT.\n",
      "\n",
      "Increase the number of iterations (max_iter) or scale the data as shown in:\n",
      "    https://scikit-learn.org/stable/modules/preprocessing.html\n",
      "Please also refer to the documentation for alternative solver options:\n",
      "    https://scikit-learn.org/stable/modules/linear_model.html#logistic-regression\n",
      "  n_iter_i = _check_optimize_result(\n",
      "C:\\Users\\anmol\\anaconda3\\lib\\site-packages\\sklearn\\linear_model\\_logistic.py:763: ConvergenceWarning: lbfgs failed to converge (status=1):\n",
      "STOP: TOTAL NO. of ITERATIONS REACHED LIMIT.\n",
      "\n",
      "Increase the number of iterations (max_iter) or scale the data as shown in:\n",
      "    https://scikit-learn.org/stable/modules/preprocessing.html\n",
      "Please also refer to the documentation for alternative solver options:\n",
      "    https://scikit-learn.org/stable/modules/linear_model.html#logistic-regression\n",
      "  n_iter_i = _check_optimize_result(\n",
      "C:\\Users\\anmol\\anaconda3\\lib\\site-packages\\sklearn\\linear_model\\_logistic.py:763: ConvergenceWarning: lbfgs failed to converge (status=1):\n",
      "STOP: TOTAL NO. of ITERATIONS REACHED LIMIT.\n",
      "\n",
      "Increase the number of iterations (max_iter) or scale the data as shown in:\n",
      "    https://scikit-learn.org/stable/modules/preprocessing.html\n",
      "Please also refer to the documentation for alternative solver options:\n",
      "    https://scikit-learn.org/stable/modules/linear_model.html#logistic-regression\n",
      "  n_iter_i = _check_optimize_result(\n",
      "C:\\Users\\anmol\\anaconda3\\lib\\site-packages\\sklearn\\linear_model\\_logistic.py:763: ConvergenceWarning: lbfgs failed to converge (status=1):\n",
      "STOP: TOTAL NO. of ITERATIONS REACHED LIMIT.\n",
      "\n",
      "Increase the number of iterations (max_iter) or scale the data as shown in:\n",
      "    https://scikit-learn.org/stable/modules/preprocessing.html\n",
      "Please also refer to the documentation for alternative solver options:\n",
      "    https://scikit-learn.org/stable/modules/linear_model.html#logistic-regression\n",
      "  n_iter_i = _check_optimize_result(\n",
      "C:\\Users\\anmol\\anaconda3\\lib\\site-packages\\sklearn\\linear_model\\_logistic.py:763: ConvergenceWarning: lbfgs failed to converge (status=1):\n",
      "STOP: TOTAL NO. of ITERATIONS REACHED LIMIT.\n",
      "\n",
      "Increase the number of iterations (max_iter) or scale the data as shown in:\n",
      "    https://scikit-learn.org/stable/modules/preprocessing.html\n",
      "Please also refer to the documentation for alternative solver options:\n",
      "    https://scikit-learn.org/stable/modules/linear_model.html#logistic-regression\n",
      "  n_iter_i = _check_optimize_result(\n",
      "C:\\Users\\anmol\\anaconda3\\lib\\site-packages\\sklearn\\linear_model\\_logistic.py:763: ConvergenceWarning: lbfgs failed to converge (status=1):\n",
      "STOP: TOTAL NO. of ITERATIONS REACHED LIMIT.\n",
      "\n",
      "Increase the number of iterations (max_iter) or scale the data as shown in:\n",
      "    https://scikit-learn.org/stable/modules/preprocessing.html\n",
      "Please also refer to the documentation for alternative solver options:\n",
      "    https://scikit-learn.org/stable/modules/linear_model.html#logistic-regression\n",
      "  n_iter_i = _check_optimize_result(\n",
      "C:\\Users\\anmol\\anaconda3\\lib\\site-packages\\sklearn\\linear_model\\_logistic.py:763: ConvergenceWarning: lbfgs failed to converge (status=1):\n",
      "STOP: TOTAL NO. of ITERATIONS REACHED LIMIT.\n",
      "\n",
      "Increase the number of iterations (max_iter) or scale the data as shown in:\n",
      "    https://scikit-learn.org/stable/modules/preprocessing.html\n",
      "Please also refer to the documentation for alternative solver options:\n",
      "    https://scikit-learn.org/stable/modules/linear_model.html#logistic-regression\n",
      "  n_iter_i = _check_optimize_result(\n",
      "C:\\Users\\anmol\\anaconda3\\lib\\site-packages\\sklearn\\linear_model\\_logistic.py:763: ConvergenceWarning: lbfgs failed to converge (status=1):\n",
      "STOP: TOTAL NO. of ITERATIONS REACHED LIMIT.\n",
      "\n",
      "Increase the number of iterations (max_iter) or scale the data as shown in:\n",
      "    https://scikit-learn.org/stable/modules/preprocessing.html\n",
      "Please also refer to the documentation for alternative solver options:\n",
      "    https://scikit-learn.org/stable/modules/linear_model.html#logistic-regression\n",
      "  n_iter_i = _check_optimize_result(\n",
      "C:\\Users\\anmol\\anaconda3\\lib\\site-packages\\sklearn\\linear_model\\_logistic.py:763: ConvergenceWarning: lbfgs failed to converge (status=1):\n",
      "STOP: TOTAL NO. of ITERATIONS REACHED LIMIT.\n",
      "\n",
      "Increase the number of iterations (max_iter) or scale the data as shown in:\n",
      "    https://scikit-learn.org/stable/modules/preprocessing.html\n",
      "Please also refer to the documentation for alternative solver options:\n",
      "    https://scikit-learn.org/stable/modules/linear_model.html#logistic-regression\n",
      "  n_iter_i = _check_optimize_result(\n",
      "C:\\Users\\anmol\\anaconda3\\lib\\site-packages\\sklearn\\linear_model\\_logistic.py:763: ConvergenceWarning: lbfgs failed to converge (status=1):\n",
      "STOP: TOTAL NO. of ITERATIONS REACHED LIMIT.\n",
      "\n",
      "Increase the number of iterations (max_iter) or scale the data as shown in:\n",
      "    https://scikit-learn.org/stable/modules/preprocessing.html\n",
      "Please also refer to the documentation for alternative solver options:\n",
      "    https://scikit-learn.org/stable/modules/linear_model.html#logistic-regression\n",
      "  n_iter_i = _check_optimize_result(\n"
     ]
    },
    {
     "name": "stdout",
     "output_type": "stream",
     "text": [
      "BEST PARAMS: {'C': 1000}\n",
      "\n",
      "0.884 (+/-0.071) for {'C': 0.001}\n",
      "0.978 (+/-0.036) for {'C': 0.01}\n",
      "0.975 (+/-0.029) for {'C': 0.1}\n",
      "0.975 (+/-0.029) for {'C': 1}\n",
      "0.978 (+/-0.036) for {'C': 10}\n",
      "0.975 (+/-0.029) for {'C': 100}\n",
      "0.982 (+/-0.023) for {'C': 1000}\n"
     ]
    },
    {
     "name": "stderr",
     "output_type": "stream",
     "text": [
      "C:\\Users\\anmol\\anaconda3\\lib\\site-packages\\sklearn\\linear_model\\_logistic.py:763: ConvergenceWarning: lbfgs failed to converge (status=1):\n",
      "STOP: TOTAL NO. of ITERATIONS REACHED LIMIT.\n",
      "\n",
      "Increase the number of iterations (max_iter) or scale the data as shown in:\n",
      "    https://scikit-learn.org/stable/modules/preprocessing.html\n",
      "Please also refer to the documentation for alternative solver options:\n",
      "    https://scikit-learn.org/stable/modules/linear_model.html#logistic-regression\n",
      "  n_iter_i = _check_optimize_result(\n",
      "C:\\Users\\anmol\\anaconda3\\lib\\site-packages\\sklearn\\linear_model\\_logistic.py:763: ConvergenceWarning: lbfgs failed to converge (status=1):\n",
      "STOP: TOTAL NO. of ITERATIONS REACHED LIMIT.\n",
      "\n",
      "Increase the number of iterations (max_iter) or scale the data as shown in:\n",
      "    https://scikit-learn.org/stable/modules/preprocessing.html\n",
      "Please also refer to the documentation for alternative solver options:\n",
      "    https://scikit-learn.org/stable/modules/linear_model.html#logistic-regression\n",
      "  n_iter_i = _check_optimize_result(\n",
      "C:\\Users\\anmol\\anaconda3\\lib\\site-packages\\sklearn\\linear_model\\_logistic.py:763: ConvergenceWarning: lbfgs failed to converge (status=1):\n",
      "STOP: TOTAL NO. of ITERATIONS REACHED LIMIT.\n",
      "\n",
      "Increase the number of iterations (max_iter) or scale the data as shown in:\n",
      "    https://scikit-learn.org/stable/modules/preprocessing.html\n",
      "Please also refer to the documentation for alternative solver options:\n",
      "    https://scikit-learn.org/stable/modules/linear_model.html#logistic-regression\n",
      "  n_iter_i = _check_optimize_result(\n"
     ]
    }
   ],
   "source": [
    "lr2 = LogisticRegression()\n",
    "parameters = {\n",
    "    'C': [0.001, 0.01, 0.1, 1, 10, 100, 1000]\n",
    "}\n",
    "\n",
    "cv = GridSearchCV(lr2, parameters, cv=5)\n",
    "cv.fit(lr_features2, lr_labels2.values.ravel())\n",
    "\n",
    "print_results(cv)"
   ]
  },
  {
   "cell_type": "code",
   "execution_count": 67,
   "id": "b651cfa1",
   "metadata": {},
   "outputs": [
    {
     "data": {
      "text/plain": [
       "LogisticRegression(C=1000)"
      ]
     },
     "execution_count": 67,
     "metadata": {},
     "output_type": "execute_result"
    }
   ],
   "source": [
    "cv.best_estimator_"
   ]
  },
  {
   "cell_type": "code",
   "execution_count": 68,
   "id": "5d848b99",
   "metadata": {},
   "outputs": [
    {
     "data": {
      "text/plain": [
       "['LR_model2.pkl']"
      ]
     },
     "execution_count": 68,
     "metadata": {},
     "output_type": "execute_result"
    }
   ],
   "source": [
    "joblib.dump(cv.best_estimator_, 'LR_model2.pkl')"
   ]
  },
  {
   "cell_type": "markdown",
   "id": "48c0287a",
   "metadata": {},
   "source": [
    "**_Read out data for Split ratio 2_**"
   ]
  },
  {
   "cell_type": "code",
   "execution_count": 69,
   "id": "9a25402a",
   "metadata": {},
   "outputs": [],
   "source": [
    "tr_features2 = pd.read_csv('train_features2.csv')\n",
    "tr_labels2 = pd.read_csv('train_labels2.csv')\n",
    "\n",
    "val_features2 = pd.read_csv('val_features2.csv')\n",
    "val_labels2 = pd.read_csv('val_labels2.csv')\n",
    "\n",
    "te_features2 = pd.read_csv('test_features2.csv')\n",
    "te_labels2 = pd.read_csv('test_labels2.csv')"
   ]
  },
  {
   "cell_type": "markdown",
   "id": "96205b21",
   "metadata": {},
   "source": [
    "**_Fit the best models on the Training set_**"
   ]
  },
  {
   "cell_type": "code",
   "execution_count": 70,
   "id": "0a1fc8f0",
   "metadata": {},
   "outputs": [
    {
     "name": "stderr",
     "output_type": "stream",
     "text": [
      "C:\\Users\\anmol\\anaconda3\\lib\\site-packages\\sklearn\\linear_model\\_logistic.py:763: ConvergenceWarning: lbfgs failed to converge (status=1):\n",
      "STOP: TOTAL NO. of ITERATIONS REACHED LIMIT.\n",
      "\n",
      "Increase the number of iterations (max_iter) or scale the data as shown in:\n",
      "    https://scikit-learn.org/stable/modules/preprocessing.html\n",
      "Please also refer to the documentation for alternative solver options:\n",
      "    https://scikit-learn.org/stable/modules/linear_model.html#logistic-regression\n",
      "  n_iter_i = _check_optimize_result(\n",
      "C:\\Users\\anmol\\anaconda3\\lib\\site-packages\\sklearn\\linear_model\\_logistic.py:763: ConvergenceWarning: lbfgs failed to converge (status=1):\n",
      "STOP: TOTAL NO. of ITERATIONS REACHED LIMIT.\n",
      "\n",
      "Increase the number of iterations (max_iter) or scale the data as shown in:\n",
      "    https://scikit-learn.org/stable/modules/preprocessing.html\n",
      "Please also refer to the documentation for alternative solver options:\n",
      "    https://scikit-learn.org/stable/modules/linear_model.html#logistic-regression\n",
      "  n_iter_i = _check_optimize_result(\n",
      "C:\\Users\\anmol\\anaconda3\\lib\\site-packages\\sklearn\\linear_model\\_logistic.py:763: ConvergenceWarning: lbfgs failed to converge (status=1):\n",
      "STOP: TOTAL NO. of ITERATIONS REACHED LIMIT.\n",
      "\n",
      "Increase the number of iterations (max_iter) or scale the data as shown in:\n",
      "    https://scikit-learn.org/stable/modules/preprocessing.html\n",
      "Please also refer to the documentation for alternative solver options:\n",
      "    https://scikit-learn.org/stable/modules/linear_model.html#logistic-regression\n",
      "  n_iter_i = _check_optimize_result(\n"
     ]
    },
    {
     "data": {
      "text/plain": [
       "LogisticRegression(C=1000)"
      ]
     },
     "execution_count": 70,
     "metadata": {},
     "output_type": "execute_result"
    }
   ],
   "source": [
    "lrA = LogisticRegression(C=0.01)\n",
    "lrA.fit(tr_features2, tr_labels2.values.ravel())\n",
    "\n",
    "lrB = LogisticRegression(C=10)\n",
    "lrB.fit(tr_features2, tr_labels2.values.ravel())\n",
    "\n",
    "lrC = LogisticRegression(C=1000)\n",
    "lrC.fit(tr_features2, tr_labels2.values.ravel())"
   ]
  },
  {
   "cell_type": "markdown",
   "id": "7097ef88",
   "metadata": {},
   "source": [
    "**_Evaluate the results on the Validation Set_**"
   ]
  },
  {
   "cell_type": "code",
   "execution_count": 71,
   "id": "65288fbd",
   "metadata": {},
   "outputs": [
    {
     "name": "stdout",
     "output_type": "stream",
     "text": [
      "C: 0.01 -- A: 1.0 / P: 1.0 / R: 1.0\n",
      "C: 10 -- A: 1.0 / P: 1.0 / R: 1.0\n",
      "C: 1000 -- A: 0.971 / P: 0.972 / R: 0.982\n"
     ]
    }
   ],
   "source": [
    "for mdl in [lrA, lrB, lrC]:\n",
    "    y_pred = mdl.predict(val_features2)\n",
    "    accuracy = round(accuracy_score(val_labels2, y_pred), 3)\n",
    "    precision = round(precision_score(val_labels2, y_pred, average=\"macro\"), 3)\n",
    "    recall = round(recall_score(val_labels2, y_pred, average=\"macro\"), 3)\n",
    "    print('C: {} -- A: {} / P: {} / R: {}'.format(mdl.C,                                                                    \n",
    "                                                                         accuracy,\n",
    "                                                                         precision,\n",
    "                                                                         recall))"
   ]
  },
  {
   "cell_type": "markdown",
   "id": "a5595c30",
   "metadata": {},
   "source": [
    "**_Evaluating the best model on the Test set_**"
   ]
  },
  {
   "cell_type": "code",
   "execution_count": 72,
   "id": "2b3076ad",
   "metadata": {},
   "outputs": [
    {
     "name": "stdout",
     "output_type": "stream",
     "text": [
      "C: 1000 : -- A: 1.0 / P: 1.0 / R: 1.0\n"
     ]
    }
   ],
   "source": [
    "y_pred = lrC.predict(te_features2)\n",
    "accuracy = round(accuracy_score(te_labels2, y_pred), 3)\n",
    "precision = round(precision_score(te_labels2, y_pred, average=\"macro\"), 3)\n",
    "recall = round(recall_score(te_labels2, y_pred, average=\"macro\"), 3)\n",
    "print('C: {} : -- A: {} / P: {} / R: {}'.format(lrC.C,\n",
    "                                                                     accuracy,\n",
    "                                                                     precision,\n",
    "                                                                     recall))"
   ]
  },
  {
   "cell_type": "markdown",
   "id": "7f331f15",
   "metadata": {},
   "source": [
    "**_Sketching the Learning Curves for Logistic Regression_**"
   ]
  },
  {
   "cell_type": "code",
   "execution_count": 73,
   "id": "cf54b28e",
   "metadata": {},
   "outputs": [
    {
     "data": {
      "image/png": "[encoded data removed]",
      "text/plain": [
       "<Figure size 720x1080 with 6 Axes>"
      ]
     },
     "metadata": {
      "needs_background": "light"
     },
     "output_type": "display_data"
    }
   ],
   "source": [
    "fig, axes = plt.subplots(3, 2, figsize=(10, 15))\n",
    "\n",
    "X, y = load_digits(return_X_y=True)\n",
    "\n",
    "title = \"Learning Curves (Ratio 1: Logistic Regression)\"\n",
    "# Cross validation with 50 iterations to get smoother mean test and train\n",
    "# score curves, each time with 20% data randomly selected as a validation set.\n",
    "cv = ShuffleSplit(n_splits=50, test_size=0.2, random_state=0)\n",
    "\n",
    "estimator = LogisticRegression()\n",
    "plot_learning_curve(\n",
    "    estimator, title, tr_features1, tr_labels1.values.ravel(), axes=axes[:, 0], ylim=(0.7, 1.01), cv=cv, n_jobs=4\n",
    ")\n",
    "\n",
    "title = r\"Learning Curves (Ratio 2: Logistic Regression)\"\n",
    "# SVC is more expensive so we do a lower number of CV iterations:\n",
    "cv = ShuffleSplit(n_splits=50, test_size=0.1, random_state=0)\n",
    "estimator = LogisticRegression()\n",
    "plot_learning_curve(\n",
    "    estimator, title, tr_features2, tr_labels2.values.ravel(), axes=axes[:, 1], ylim=(0.7, 1.01), cv=cv, n_jobs=4\n",
    ")\n",
    "\n",
    "plt.show()"
   ]
  },
  {
   "cell_type": "markdown",
   "id": "ec6491d4",
   "metadata": {},
   "source": [
    "## Task 4: Model Comparison\n"
   ]
  },
  {
   "cell_type": "markdown",
   "id": "09b0e9f3",
   "metadata": {},
   "source": [
    "#### For Ratio 1"
   ]
  },
  {
   "cell_type": "code",
   "execution_count": 74,
   "id": "6cc2aae4",
   "metadata": {},
   "outputs": [],
   "source": [
    "val_features = pd.read_csv('val_features1.csv')\n",
    "val_labels = pd.read_csv('val_labels1.csv')\n",
    "\n",
    "te_features = pd.read_csv('test_features1.csv')\n",
    "te_labels = pd.read_csv('test_labels1.csv')"
   ]
  },
  {
   "cell_type": "code",
   "execution_count": 75,
   "id": "33d055d8",
   "metadata": {},
   "outputs": [],
   "source": [
    "models = {}\n",
    "\n",
    "for mdl in ['RF', 'SVM', 'LR']:\n",
    "    models[mdl] = joblib.load('{}_model1.pkl'.format(mdl))"
   ]
  },
  {
   "cell_type": "code",
   "execution_count": 76,
   "id": "80f2381b",
   "metadata": {},
   "outputs": [
    {
     "data": {
      "text/plain": [
       "{'RF': RandomForestClassifier(max_depth=4, n_estimators=50),\n",
       " 'SVM': SVC(C=10, kernel='linear'),\n",
       " 'LR': LogisticRegression(C=0.1)}"
      ]
     },
     "execution_count": 76,
     "metadata": {},
     "output_type": "execute_result"
    }
   ],
   "source": [
    "models\n"
   ]
  },
  {
   "cell_type": "markdown",
   "id": "bb7103ee",
   "metadata": {},
   "source": [
    "**_Evaluate the models on the Validation Set_**"
   ]
  },
  {
   "cell_type": "code",
   "execution_count": 77,
   "id": "829c66ac",
   "metadata": {},
   "outputs": [],
   "source": [
    "def evaluate_model(name, model, features, labels):\n",
    "    start = time()\n",
    "    pred = model.predict(features)\n",
    "    end = time()\n",
    "    accuracy = round(accuracy_score(labels, pred), 3)\n",
    "    precision = round(precision_score(labels, pred, average=\"macro\"), 3)\n",
    "    recall = round(recall_score(labels, pred, average=\"macro\"), 3)\n",
    "    print('{} -- Accuracy: {} / Precision: {} / Recall: {} / Latency: {}ms'.format(name,\n",
    "                                                                                   accuracy,\n",
    "                                                                                   precision,\n",
    "                                                                                   recall,\n",
    "                                                                                   round((end - start)*1000, 1)))"
   ]
  },
  {
   "cell_type": "code",
   "execution_count": 78,
   "id": "4a98911b",
   "metadata": {},
   "outputs": [
    {
     "name": "stdout",
     "output_type": "stream",
     "text": [
      "RF -- Accuracy: 0.986 / Precision: 0.974 / Recall: 0.99 / Latency: 9.0ms\n",
      "SVM -- Accuracy: 1.0 / Precision: 1.0 / Recall: 1.0 / Latency: 2.0ms\n",
      "LR -- Accuracy: 1.0 / Precision: 1.0 / Recall: 1.0 / Latency: 1.0ms\n"
     ]
    }
   ],
   "source": [
    "for name, mdl in models.items():\n",
    "    evaluate_model(name, mdl, val_features, val_labels)"
   ]
  },
  {
   "cell_type": "markdown",
   "id": "5284db60",
   "metadata": {},
   "source": [
    "Since the LR model has the least latency on this split ratio, we can say that **LR is the best model**. "
   ]
  },
  {
   "cell_type": "markdown",
   "id": "bcf70a42",
   "metadata": {},
   "source": [
    "**_Evaluating the best model on the Test set_**"
   ]
  },
  {
   "cell_type": "code",
   "execution_count": 79,
   "id": "0d74c88c",
   "metadata": {},
   "outputs": [
    {
     "name": "stdout",
     "output_type": "stream",
     "text": [
      "Logistic Regression -- Accuracy: 0.971 / Precision: 0.976 / Recall: 0.976 / Latency: 2.0ms\n"
     ]
    }
   ],
   "source": [
    "evaluate_model('Logistic Regression', models['LR'], te_features, te_labels)"
   ]
  },
  {
   "cell_type": "markdown",
   "id": "a366fc9e",
   "metadata": {},
   "source": [
    "#### For Ratio 2"
   ]
  },
  {
   "cell_type": "code",
   "execution_count": 80,
   "id": "41681d3a",
   "metadata": {},
   "outputs": [],
   "source": [
    "val_features = pd.read_csv('val_features2.csv')\n",
    "val_labels = pd.read_csv('val_labels2.csv')\n",
    "\n",
    "te_features = pd.read_csv('test_features2.csv')\n",
    "te_labels = pd.read_csv('test_labels2.csv')"
   ]
  },
  {
   "cell_type": "code",
   "execution_count": 81,
   "id": "afb2f5b7",
   "metadata": {},
   "outputs": [],
   "source": [
    "models = {}\n",
    "\n",
    "for mdl in ['RF', 'SVM', 'LR']:\n",
    "    models[mdl] = joblib.load('{}_model2.pkl'.format(mdl))"
   ]
  },
  {
   "cell_type": "code",
   "execution_count": 82,
   "id": "79ff1188",
   "metadata": {},
   "outputs": [
    {
     "data": {
      "text/plain": [
       "{'RF': RandomForestClassifier(max_depth=8, n_estimators=250),\n",
       " 'SVM': SVC(C=10, kernel='linear'),\n",
       " 'LR': LogisticRegression(C=1000)}"
      ]
     },
     "execution_count": 82,
     "metadata": {},
     "output_type": "execute_result"
    }
   ],
   "source": [
    "models\n"
   ]
  },
  {
   "cell_type": "markdown",
   "id": "47348a7a",
   "metadata": {},
   "source": [
    "**_Evaluate the models on the Validation Set_**"
   ]
  },
  {
   "cell_type": "code",
   "execution_count": 83,
   "id": "67a813b7",
   "metadata": {},
   "outputs": [],
   "source": [
    "def evaluate_model(name, model, features, labels):\n",
    "    start = time()\n",
    "    pred = model.predict(features)\n",
    "    end = time()\n",
    "    accuracy = round(accuracy_score(labels, pred), 3)\n",
    "    precision = round(precision_score(labels, pred, average=\"macro\"), 3)\n",
    "    recall = round(recall_score(labels, pred, average=\"macro\"), 3)\n",
    "    print('{} -- Accuracy: {} / Precision: {} / Recall: {} / Latency: {}ms'.format(name,\n",
    "                                                                                   accuracy,\n",
    "                                                                                   precision,\n",
    "                                                                                   recall,\n",
    "                                                                                   round((end - start)*1000, 1)))"
   ]
  },
  {
   "cell_type": "code",
   "execution_count": 84,
   "id": "6041cf96",
   "metadata": {},
   "outputs": [
    {
     "name": "stdout",
     "output_type": "stream",
     "text": [
      "RF -- Accuracy: 0.971 / Precision: 0.972 / Recall: 0.982 / Latency: 30.5ms\n",
      "SVM -- Accuracy: 0.971 / Precision: 0.972 / Recall: 0.982 / Latency: 1.0ms\n",
      "LR -- Accuracy: 0.971 / Precision: 0.972 / Recall: 0.982 / Latency: 1.0ms\n"
     ]
    }
   ],
   "source": [
    "for name, mdl in models.items():\n",
    "    evaluate_model(name, mdl, val_features, val_labels)"
   ]
  },
  {
   "cell_type": "markdown",
   "id": "66941b2d",
   "metadata": {},
   "source": [
    "Since the LR model has the least latency on this split ratio, we can say that **LR is the best model**. Even though the accuracy, precision and recall values of the RF model are the highest, the LR model has got the lowest latency. "
   ]
  },
  {
   "cell_type": "markdown",
   "id": "8c8988d9",
   "metadata": {},
   "source": [
    "**_Evaluating the best model on the Test set_**"
   ]
  },
  {
   "cell_type": "code",
   "execution_count": 85,
   "id": "abdea522",
   "metadata": {},
   "outputs": [
    {
     "name": "stdout",
     "output_type": "stream",
     "text": [
      "Logistic Regression -- Accuracy: 1.0 / Precision: 1.0 / Recall: 1.0 / Latency: 2.0ms\n"
     ]
    }
   ],
   "source": [
    "evaluate_model('Logistic Regression', models['LR'], te_features, te_labels)"
   ]
  },
  {
   "cell_type": "markdown",
   "id": "d0cc5d9f",
   "metadata": {},
   "source": [
    "## Task 5: Determine the better Split ratio"
   ]
  },
  {
   "cell_type": "markdown",
   "id": "54f2fa29",
   "metadata": {},
   "source": [
    "After evaluating the best model on the test set for both the split ratios, we can see that the best model on split ratio 1 ($60-20-20$) has lesser latency than the best model on split ratio 2 ($80-10-10$).\n",
    "Hence, the split ratio 1 is better than split ratio 2."
   ]
  }
 ],
 "metadata": {
  "kernelspec": {
   "display_name": "Python 3 (ipykernel)",
   "language": "python",
   "name": "python3"
  },
  "language_info": {
   "codemirror_mode": {
    "name": "ipython",
    "version": 3
   },
   "file_extension": ".py",
   "mimetype": "text/x-python",
   "name": "python",
   "nbconvert_exporter": "python",
   "pygments_lexer": "ipython3",
   "version": "3.9.7"
  }
 },
 "nbformat": 4,
 "nbformat_minor": 5
}
